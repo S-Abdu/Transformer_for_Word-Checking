{
 "cells": [
  {
   "cell_type": "markdown",
   "metadata": {
    "id": "J0Qjg6vuaHNt"
   },
   "source": [
    "<h1>Beyond Spell-Checking: Word-Checking</h1>\n",
    "<h2>An attention based Transformer approach</h2>"
   ]
  },
  {
   "cell_type": "markdown",
   "metadata": {},
   "source": [
    "<h2> Abdurrahman Shahid</h2>\n",
    "<h3>L3 MIASHS - SC, University of Lille, France</h3>\n",
    "<h3>Study and Research Work - Travaux d’Etude et de Recherche (TER) </h3>"
   ]
  },
  {
   "cell_type": "markdown",
   "metadata": {},
   "source": [
    "<div> <strong>The Transformer implemenation is from the Tensorflow website ('Transformer model for language understanding').</strong></div> \n",
    "<div style=\"color:blue\"><strong>The training pipeline and the evaluation of the model are modified and expanded to suit our needs.</strong></div>"
   ]
  },
  {
   "cell_type": "markdown",
   "metadata": {},
   "source": [
    "##### Copyright 2019 The TensorFlow Authors."
   ]
  },
  {
   "cell_type": "code",
   "execution_count": null,
   "metadata": {},
   "outputs": [],
   "source": [
    "#@title Licensed under the Apache License, Version 2.0 (the \"License\");\n",
    "# you may not use this file except in compliance with the License.\n",
    "# You may obtain a copy of the License at\n",
    "#\n",
    "# https://www.apache.org/licenses/LICENSE-2.0\n",
    "#\n",
    "# Unless required by applicable law or agreed to in writing, software\n",
    "# distributed under the License is distributed on an \"AS IS\" BASIS,\n",
    "# WITHOUT WARRANTIES OR CONDITIONS OF ANY KIND, either express or implied.\n",
    "# See the License for the specific language governing permissions and\n",
    "# limitations under the License."
   ]
  },
  {
   "cell_type": "code",
   "execution_count": 1,
   "metadata": {
    "execution": {
     "iopub.execute_input": "2020-11-02T02:23:45.920611Z",
     "iopub.status.busy": "2020-11-02T02:23:45.919935Z",
     "iopub.status.idle": "2020-11-02T02:23:53.342882Z",
     "shell.execute_reply": "2020-11-02T02:23:53.342273Z"
    },
    "id": "JjJJyJTZYebt"
   },
   "outputs": [],
   "source": [
    "import tensorflow_datasets as tfds\n",
    "import tensorflow as tf\n",
    "\n",
    "import time\n",
    "import os\n",
    "from datetime import datetime\n",
    "import pickle\n",
    "import numpy as np\n",
    "import pandas as pd\n",
    "import matplotlib.pyplot as plt"
   ]
  },
  {
   "cell_type": "markdown",
   "metadata": {},
   "source": [
    "## Change:\n",
    "\n",
    "filetime (time which occurs in the training file's name)\n",
    "\n",
    "Tokenizer \\\n",
    "TRAIN_BUFFER_SIZE \\\n",
    "VAL_BUFFER_SIZE \\\n",
    "BATCH_SIZE"
   ]
  },
  {
   "cell_type": "markdown",
   "metadata": {
    "id": "fd1NWMxjfsDd"
   },
   "source": [
    "# Setup input pipeline (Modified and expanded for our case)"
   ]
  },
  {
   "cell_type": "code",
   "execution_count": 2,
   "metadata": {},
   "outputs": [],
   "source": [
    "filetime = \"2-8-22-50\""
   ]
  },
  {
   "cell_type": "code",
   "execution_count": 3,
   "metadata": {},
   "outputs": [],
   "source": [
    "train_file_input = \"xtrain-{}.txt\".format(filetime)\n",
    "train_file_target = \"ytrain-{}.txt\".format(filetime)"
   ]
  },
  {
   "cell_type": "code",
   "execution_count": 4,
   "metadata": {},
   "outputs": [],
   "source": [
    "train_dataset_input = tf.data.TextLineDataset(train_file_input)\n",
    "train_dataset_target = tf.data.TextLineDataset(train_file_target)"
   ]
  },
  {
   "cell_type": "code",
   "execution_count": 5,
   "metadata": {},
   "outputs": [],
   "source": [
    "train_dataset = tf.data.Dataset.zip((train_dataset_input, train_dataset_target))"
   ]
  },
  {
   "cell_type": "code",
   "execution_count": 6,
   "metadata": {},
   "outputs": [
    {
     "name": "stdout",
     "output_type": "stream",
     "text": [
      "plus mûr, plus expérimenté, il à appris à choisir ses combats.\n",
      "plus mûr, plus expérimenté, il a appris à choisir ses combats.\n"
     ]
    }
   ],
   "source": [
    "for a,b in train_dataset.take(1):\n",
    "    print(a.numpy().decode(\"utf-8\"))\n",
    "    print(b.numpy().decode(\"utf-8\"))"
   ]
  },
  {
   "cell_type": "code",
   "execution_count": 7,
   "metadata": {},
   "outputs": [
    {
     "data": {
      "text/plain": [
       "(<tf.Tensor: shape=(), dtype=string, numpy=b'plus m\\xc3\\xbbr, plus exp\\xc3\\xa9riment\\xc3\\xa9, il \\xc3\\xa0 appris \\xc3\\xa0 choisir ses combats.'>,\n",
       " <tf.Tensor: shape=(), dtype=string, numpy=b'plus m\\xc3\\xbbr, plus exp\\xc3\\xa9riment\\xc3\\xa9, il a appris \\xc3\\xa0 choisir ses combats.'>)"
      ]
     },
     "execution_count": 7,
     "metadata": {},
     "output_type": "execute_result"
    }
   ],
   "source": [
    "next(iter(train_dataset))"
   ]
  },
  {
   "cell_type": "markdown",
   "metadata": {
    "id": "RCEKotqosGfq"
   },
   "source": [
    "load a custom subwords tokenizer"
   ]
  },
  {
   "cell_type": "code",
   "execution_count": 8,
   "metadata": {
    "execution": {
     "iopub.execute_input": "2020-11-02T02:24:16.835394Z",
     "iopub.status.busy": "2020-11-02T02:24:16.834726Z",
     "iopub.status.idle": "2020-11-02T02:26:24.694629Z",
     "shell.execute_reply": "2020-11-02T02:26:24.695136Z"
    },
    "id": "KVBg5Q8tBk5z"
   },
   "outputs": [],
   "source": [
    "tokenizer = tfds.features.text.SubwordTextEncoder.load_from_file(\"tokenizer_1024_file_train_tokenizer-133000lines.txt\")"
   ]
  },
  {
   "cell_type": "markdown",
   "metadata": {},
   "source": [
    "#### BATCH SIZE ####"
   ]
  },
  {
   "cell_type": "code",
   "execution_count": 9,
   "metadata": {},
   "outputs": [],
   "source": [
    "TRAIN_BUFFER_SIZE = 20000\n",
    "VAL_BUFFER_SIZE = 5000\n",
    "BATCH_SIZE = 64"
   ]
  },
  {
   "cell_type": "markdown",
   "metadata": {},
   "source": [
    "Add a start and end token to the input and target. "
   ]
  },
  {
   "cell_type": "code",
   "execution_count": 10,
   "metadata": {},
   "outputs": [],
   "source": [
    "def encode(inp, tar):\n",
    "    inp = [tokenizer.vocab_size] + tokenizer.encode(\n",
    "        inp.numpy().decode(\"utf-8\")) + [tokenizer.vocab_size+1]\n",
    "    tar = [tokenizer.vocab_size] + tokenizer.encode(\n",
    "        tar.numpy().decode(\"utf-8\")) + [tokenizer.vocab_size+1]\n",
    "    \n",
    "    return inp, tar"
   ]
  },
  {
   "cell_type": "markdown",
   "metadata": {
    "id": "Tx1sFbR-9fRs"
   },
   "source": [
    "You want to use `Dataset.map` to apply this function to each element of the dataset.  `Dataset.map` runs in graph mode.\n",
    "\n",
    "* Graph tensors do not have a value. \n",
    "* In graph mode you can only use TensorFlow Ops and functions. \n",
    "\n",
    "So you can't `.map` this function directly: You need to wrap it in a `tf.py_function`. The `tf.py_function` will pass regular tensors (with a value and a `.numpy()` method to access it), to the wrapped python function."
   ]
  },
  {
   "cell_type": "code",
   "execution_count": 11,
   "metadata": {},
   "outputs": [],
   "source": [
    "def tf_encode(inp, tar):\n",
    "    result_inp, result_tar = tf.py_function(encode, [inp, tar], [tf.int64, tf.int64])\n",
    "    result_inp.set_shape([None])\n",
    "    result_tar.set_shape([None])\n",
    "\n",
    "    return result_inp, result_tar"
   ]
  },
  {
   "cell_type": "markdown",
   "metadata": {
    "id": "6JrGp5Gek6Ql"
   },
   "source": [
    "Note: To keep this example small and relatively fast, drop examples with a length of over 32 tokens."
   ]
  },
  {
   "cell_type": "markdown",
   "metadata": {},
   "source": [
    "#### Maximum Length"
   ]
  },
  {
   "cell_type": "code",
   "execution_count": 12,
   "metadata": {
    "execution": {
     "iopub.execute_input": "2020-11-02T02:26:24.731110Z",
     "iopub.status.busy": "2020-11-02T02:26:24.730465Z",
     "iopub.status.idle": "2020-11-02T02:26:24.732249Z",
     "shell.execute_reply": "2020-11-02T02:26:24.732655Z"
    },
    "id": "2QEgbjntk6Yf"
   },
   "outputs": [],
   "source": [
    "MAX_LENGTH = 32"
   ]
  },
  {
   "cell_type": "code",
   "execution_count": 13,
   "metadata": {
    "execution": {
     "iopub.execute_input": "2020-11-02T02:26:24.736845Z",
     "iopub.status.busy": "2020-11-02T02:26:24.736227Z",
     "iopub.status.idle": "2020-11-02T02:26:24.737975Z",
     "shell.execute_reply": "2020-11-02T02:26:24.738396Z"
    },
    "id": "c081xPGv1CPI"
   },
   "outputs": [],
   "source": [
    "def filter_max_length(x, y, max_length=MAX_LENGTH):\n",
    "    return tf.logical_and(tf.size(x) <= max_length,\n",
    "                        tf.size(y) <= max_length)"
   ]
  },
  {
   "cell_type": "code",
   "execution_count": 14,
   "metadata": {},
   "outputs": [],
   "source": [
    "train_dataset = train_dataset.map(tf_encode)\n",
    "train_dataset = train_dataset.filter(filter_max_length)\n",
    "# cache the dataset to memory to get a speedup while reading from it.\n",
    "train_dataset = train_dataset.cache()\n",
    "train_dataset = train_dataset.shuffle(TRAIN_BUFFER_SIZE).padded_batch(BATCH_SIZE, padded_shapes=([None],[None]))\n",
    "train_dataset = train_dataset.prefetch(tf.data.experimental.AUTOTUNE)"
   ]
  },
  {
   "cell_type": "markdown",
   "metadata": {},
   "source": [
    "Prepare validation set"
   ]
  },
  {
   "cell_type": "code",
   "execution_count": 15,
   "metadata": {},
   "outputs": [],
   "source": [
    "val_file_input = \"xval-{}.txt\".format(filetime)\n",
    "val_file_target = \"yval-{}.txt\".format(filetime)\n",
    "val_dataset_input = tf.data.TextLineDataset(val_file_input)\n",
    "val_dataset_target = tf.data.TextLineDataset(val_file_target)\n",
    "val_dataset = tf.data.Dataset.zip((val_dataset_input, val_dataset_target))\n"
   ]
  },
  {
   "cell_type": "code",
   "execution_count": 16,
   "metadata": {},
   "outputs": [],
   "source": [
    "val_dataset = val_dataset.map(tf_encode)\n",
    "val_dataset = val_dataset.filter(filter_max_length)\n",
    "# cache the dataset to memory to get a speedup while reading from it.\n",
    "val_dataset = val_dataset.cache()\n",
    "val_dataset = val_dataset.shuffle(VAL_BUFFER_SIZE).padded_batch(BATCH_SIZE, padded_shapes=([None],[None]))\n",
    "val_dataset = val_dataset.prefetch(tf.data.experimental.AUTOTUNE)"
   ]
  },
  {
   "cell_type": "markdown",
   "metadata": {
    "id": "nBQuibYA4n0n"
   },
   "source": [
    "##### Positional encoding\n",
    "\n",
    "Since this model doesn't contain any recurrence or convolution, positional encoding is added to give the model some information about the relative position of the words in the sentence. \n",
    "\n",
    "The positional encoding vector is added to the embedding vector. Embeddings represent a token in a d-dimensional space where tokens with similar meaning will be closer to each other. But the embeddings do not encode the relative position of words in a sentence. So after adding the positional encoding, words will be closer to each other based on the *similarity of their meaning and their position in the sentence*, in the d-dimensional space.\n",
    "\n",
    "See the notebook on [positional encoding](https://github.com/tensorflow/examples/blob/master/community/en/position_encoding.ipynb) to learn more about it. The formula for calculating the positional encoding is as follows:\n",
    "\n",
    "$$\\Large{PE_{(pos, 2i)} = sin(pos / 10000^{2i / d_{model}})} $$\n",
    "$$\\Large{PE_{(pos, 2i+1)} = cos(pos / 10000^{2i / d_{model}})} $$"
   ]
  },
  {
   "cell_type": "code",
   "execution_count": 17,
   "metadata": {
    "execution": {
     "iopub.execute_input": "2020-11-02T02:26:24.950742Z",
     "iopub.status.busy": "2020-11-02T02:26:24.949856Z",
     "iopub.status.idle": "2020-11-02T02:26:24.951933Z",
     "shell.execute_reply": "2020-11-02T02:26:24.952383Z"
    },
    "id": "WhIOZjMNKujn"
   },
   "outputs": [],
   "source": [
    "def get_angles(pos, i, d_model):\n",
    "    angle_rates = 1 / np.power(10000, (2 * (i//2)) / np.float32(d_model))\n",
    "    return pos * angle_rates"
   ]
  },
  {
   "cell_type": "code",
   "execution_count": 18,
   "metadata": {
    "execution": {
     "iopub.execute_input": "2020-11-02T02:26:24.958548Z",
     "iopub.status.busy": "2020-11-02T02:26:24.957602Z",
     "iopub.status.idle": "2020-11-02T02:26:24.960152Z",
     "shell.execute_reply": "2020-11-02T02:26:24.959567Z"
    },
    "id": "1Rz82wEs5biZ"
   },
   "outputs": [],
   "source": [
    "def positional_encoding(position, d_model):\n",
    "    angle_rads = get_angles(np.arange(position)[:, np.newaxis],\n",
    "                          np.arange(d_model)[np.newaxis, :],\n",
    "                          d_model)\n",
    "  \n",
    "    # apply sin to even indices in the array; 2i\n",
    "    angle_rads[:, 0::2] = np.sin(angle_rads[:, 0::2])\n",
    "  \n",
    "    # apply cos to odd indices in the array; 2i+1\n",
    "    angle_rads[:, 1::2] = np.cos(angle_rads[:, 1::2])\n",
    "    \n",
    "    pos_encoding = angle_rads[np.newaxis, ...]\n",
    "    \n",
    "    return tf.cast(pos_encoding, dtype=tf.float32)"
   ]
  },
  {
   "cell_type": "code",
   "execution_count": 19,
   "metadata": {
    "execution": {
     "iopub.execute_input": "2020-11-02T02:26:24.964937Z",
     "iopub.status.busy": "2020-11-02T02:26:24.964299Z",
     "iopub.status.idle": "2020-11-02T02:26:25.185963Z",
     "shell.execute_reply": "2020-11-02T02:26:25.186470Z"
    },
    "id": "1kLCla68EloE"
   },
   "outputs": [
    {
     "name": "stdout",
     "output_type": "stream",
     "text": [
      "(1, 50, 512)\n"
     ]
    },
    {
     "data": {
      "image/png": "[encoded data removed]",
      "text/plain": [
       "<Figure size 432x288 with 2 Axes>"
      ]
     },
     "metadata": {
      "needs_background": "light"
     },
     "output_type": "display_data"
    }
   ],
   "source": [
    "pos_encoding = positional_encoding(50, 512)\n",
    "print (pos_encoding.shape)\n",
    "\n",
    "plt.pcolormesh(pos_encoding[0], cmap='RdBu')\n",
    "plt.xlabel('Depth')\n",
    "plt.xlim((0, 512))\n",
    "plt.ylabel('Position')\n",
    "plt.colorbar()\n",
    "plt.show()"
   ]
  },
  {
   "cell_type": "markdown",
   "metadata": {
    "id": "a_b4ou4TYqUN"
   },
   "source": [
    "## Masking"
   ]
  },
  {
   "cell_type": "markdown",
   "metadata": {
    "id": "s42Uydjkv0hF"
   },
   "source": [
    "Mask all the pad tokens in the batch of sequence. It ensures that the model does not treat padding as the input. The mask indicates where pad value `0` is present: it outputs a `1` at those locations, and a `0` otherwise."
   ]
  },
  {
   "cell_type": "code",
   "execution_count": 20,
   "metadata": {
    "execution": {
     "iopub.execute_input": "2020-11-02T02:26:25.191500Z",
     "iopub.status.busy": "2020-11-02T02:26:25.190865Z",
     "iopub.status.idle": "2020-11-02T02:26:25.192659Z",
     "shell.execute_reply": "2020-11-02T02:26:25.193052Z"
    },
    "id": "U2i8-e1s8ti9"
   },
   "outputs": [],
   "source": [
    "def create_padding_mask(seq):\n",
    "    seq = tf.cast(tf.math.equal(seq, 0), tf.float32)\n",
    "    # add extra dimensions to add the padding\n",
    "    # to the attention logits.\n",
    "    return seq[:, tf.newaxis, tf.newaxis, :]  # (batch_size, 1, 1, seq_len)"
   ]
  },
  {
   "cell_type": "markdown",
   "metadata": {
    "id": "Z0hzukDBgVom"
   },
   "source": [
    "The look-ahead mask is used to mask the future tokens in a sequence. In other words, the mask indicates which entries should not be used.\n",
    "\n",
    "This means that to predict the third word, only the first and second word will be used. Similarly to predict the fourth word, only the first, second and the third word will be used and so on."
   ]
  },
  {
   "cell_type": "code",
   "execution_count": 21,
   "metadata": {
    "execution": {
     "iopub.execute_input": "2020-11-02T02:26:25.206009Z",
     "iopub.status.busy": "2020-11-02T02:26:25.205344Z",
     "iopub.status.idle": "2020-11-02T02:26:25.207194Z",
     "shell.execute_reply": "2020-11-02T02:26:25.207586Z"
    },
    "id": "dVxS8OPI9uI0"
   },
   "outputs": [],
   "source": [
    "def create_look_ahead_mask(size):\n",
    "    mask = 1 - tf.linalg.band_part(tf.ones((size, size)), -1, 0)\n",
    "    return mask  # (seq_len, seq_len)"
   ]
  },
  {
   "cell_type": "markdown",
   "metadata": {
    "id": "xluDl5cXYy4y"
   },
   "source": [
    "## Scaled dot product attention"
   ]
  },
  {
   "cell_type": "markdown",
   "metadata": {
    "id": "vsxEE_-Wa1gF"
   },
   "source": [
    "<img src=\"https://www.tensorflow.org/images/tutorials/transformer/scaled_attention.png\" width=\"500\" alt=\"scaled_dot_product_attention\">\n",
    "\n",
    "The attention function used by the transformer takes three inputs: Q (query), K (key), V (value). The equation used to calculate the attention weights is:\n",
    "\n",
    "$$\\Large{Attention(Q, K, V) = softmax_k(\\frac{QK^T}{\\sqrt{d_k}}) V} $$\n",
    "\n",
    "The dot-product attention is scaled by a factor of square root of the depth. This is done because for large values of depth, the dot product grows large in magnitude pushing the softmax function where it has small gradients resulting in a very hard softmax. \n",
    "\n",
    "For example, consider that `Q` and `K` have a mean of 0 and variance of 1. Their matrix multiplication will have a mean of 0 and variance of `dk`. Hence, *square root of `dk`* is used for scaling (and not any other number) because the matmul of `Q` and `K` should have a mean of 0 and variance of 1, and you get a gentler softmax.\n",
    "\n",
    "The mask is multiplied with -1e9 (close to negative infinity). This is done because the mask is summed with the scaled matrix multiplication of Q and K and is applied immediately before a softmax. The goal is to zero out these cells, and large negative inputs to softmax are near zero in the output."
   ]
  },
  {
   "cell_type": "code",
   "execution_count": 22,
   "metadata": {
    "execution": {
     "iopub.execute_input": "2020-11-02T02:26:25.222000Z",
     "iopub.status.busy": "2020-11-02T02:26:25.221312Z",
     "iopub.status.idle": "2020-11-02T02:26:25.223205Z",
     "shell.execute_reply": "2020-11-02T02:26:25.223597Z"
    },
    "id": "LazzUq3bJ5SH"
   },
   "outputs": [],
   "source": [
    "def scaled_dot_product_attention(q, k, v, mask):\n",
    "    \"\"\"Calculate the attention weights.\n",
    "    q, k, v must have matching leading dimensions.\n",
    "    k, v must have matching penultimate dimension, i.e.: seq_len_k = seq_len_v.\n",
    "    The mask has different shapes depending on its type(padding or look ahead) \n",
    "    but it must be broadcastable for addition.\n",
    "    \n",
    "    Args:\n",
    "    q: query shape == (..., seq_len_q, depth)\n",
    "    k: key shape == (..., seq_len_k, depth)\n",
    "    v: value shape == (..., seq_len_v, depth_v)\n",
    "    mask: Float tensor with shape broadcastable \n",
    "          to (..., seq_len_q, seq_len_k). Defaults to None.\n",
    "    Returns:\n",
    "    output, attention_weights\n",
    "    \"\"\"\n",
    "\n",
    "    matmul_qk = tf.matmul(q, k, transpose_b=True)  # (..., seq_len_q, seq_len_k)\n",
    "\n",
    "    # scale matmul_qk\n",
    "    dk = tf.cast(tf.shape(k)[-1], tf.float32)\n",
    "    scaled_attention_logits = matmul_qk / tf.math.sqrt(dk)\n",
    "\n",
    "    # add the mask to the scaled tensor.\n",
    "    if mask is not None:\n",
    "        scaled_attention_logits += (mask * -1e9)  \n",
    "\n",
    "    # softmax is normalized on the last axis (seq_len_k) so that the scores\n",
    "    # add up to 1.\n",
    "    attention_weights = tf.nn.softmax(scaled_attention_logits, axis=-1)  # (..., seq_len_q, seq_len_k)\n",
    "    \n",
    "    output = tf.matmul(attention_weights, v)  # (..., seq_len_q, depth_v)\n",
    "\n",
    "    return output, attention_weights"
   ]
  },
  {
   "cell_type": "markdown",
   "metadata": {
    "id": "FiqETnhCkoXh"
   },
   "source": [
    "As the softmax normalization is done on K, its values decide the amount of importance given to Q.\n",
    "\n",
    "The output represents the multiplication of the attention weights and the V (value) vector. This ensures that the words you want to focus on are kept as-is and the irrelevant words are flushed out."
   ]
  },
  {
   "cell_type": "markdown",
   "metadata": {
    "id": "kmzGPEy64qmA"
   },
   "source": [
    "## Multi-head attention"
   ]
  },
  {
   "cell_type": "markdown",
   "metadata": {
    "id": "fz5BMC8Kaoqo"
   },
   "source": [
    "<img src=\"https://www.tensorflow.org/images/tutorials/transformer/multi_head_attention.png\" width=\"500\" alt=\"multi-head attention\">\n",
    "\n",
    "\n",
    "Multi-head attention consists of four parts:\n",
    "*    Linear layers and split into heads.\n",
    "*    Scaled dot-product attention.\n",
    "*    Concatenation of heads.\n",
    "*    Final linear layer."
   ]
  },
  {
   "cell_type": "markdown",
   "metadata": {
    "id": "JPmbr6F1C-v_"
   },
   "source": [
    "Each multi-head attention block gets three inputs; Q (query), K (key), V (value). These are put through linear (Dense) layers and split up into multiple heads. \n",
    "\n",
    "The `scaled_dot_product_attention` defined above is applied to each head (broadcasted for efficiency). An appropriate mask must be used in the attention step.  The attention output for each head is then concatenated (using `tf.transpose`, and `tf.reshape`) and put through a final `Dense` layer.\n",
    "\n",
    "Instead of one single attention head, Q, K, and V are split into multiple heads because it allows the model to jointly attend to information at different positions from different representational spaces. After the split each head has a reduced dimensionality, so the total computation cost is the same as a single head attention with full dimensionality."
   ]
  },
  {
   "cell_type": "code",
   "execution_count": 23,
   "metadata": {
    "execution": {
     "iopub.execute_input": "2020-11-02T02:26:25.319284Z",
     "iopub.status.busy": "2020-11-02T02:26:25.318566Z",
     "iopub.status.idle": "2020-11-02T02:26:25.320448Z",
     "shell.execute_reply": "2020-11-02T02:26:25.320855Z"
    },
    "id": "BSV3PPKsYecw"
   },
   "outputs": [],
   "source": [
    "class MultiHeadAttention(tf.keras.layers.Layer):\n",
    "    def __init__(self, d_model, num_heads):\n",
    "        super(MultiHeadAttention, self).__init__()\n",
    "        self.num_heads = num_heads\n",
    "        self.d_model = d_model\n",
    "    \n",
    "        assert d_model % self.num_heads == 0\n",
    "    \n",
    "        self.depth = d_model // self.num_heads\n",
    "    \n",
    "        self.wq = tf.keras.layers.Dense(d_model)\n",
    "        self.wk = tf.keras.layers.Dense(d_model)\n",
    "        self.wv = tf.keras.layers.Dense(d_model)\n",
    "    \n",
    "        self.dense = tf.keras.layers.Dense(d_model)\n",
    "    \n",
    "    def split_heads(self, x, batch_size):\n",
    "        \"\"\"Split the last dimension into (num_heads, depth).\n",
    "        Transpose the result such that the shape is (batch_size, num_heads, seq_len, depth)\n",
    "        \"\"\"\n",
    "        x = tf.reshape(x, (batch_size, -1, self.num_heads, self.depth))\n",
    "        return tf.transpose(x, perm=[0, 2, 1, 3])\n",
    "    \n",
    "    def call(self, v, k, q, mask):\n",
    "        batch_size = tf.shape(q)[0]\n",
    "        \n",
    "        q = self.wq(q)  # (batch_size, seq_len, d_model)\n",
    "        k = self.wk(k)  # (batch_size, seq_len, d_model)\n",
    "        v = self.wv(v)  # (batch_size, seq_len, d_model)\n",
    "        \n",
    "        q = self.split_heads(q, batch_size)  # (batch_size, num_heads, seq_len_q, depth)\n",
    "        k = self.split_heads(k, batch_size)  # (batch_size, num_heads, seq_len_k, depth)\n",
    "        v = self.split_heads(v, batch_size)  # (batch_size, num_heads, seq_len_v, depth)\n",
    "        \n",
    "        # scaled_attention.shape == (batch_size, num_heads, seq_len_q, depth)\n",
    "        # attention_weights.shape == (batch_size, num_heads, seq_len_q, seq_len_k)\n",
    "        scaled_attention, attention_weights = scaled_dot_product_attention(\n",
    "            q, k, v, mask)\n",
    "        \n",
    "        scaled_attention = tf.transpose(scaled_attention, perm=[0, 2, 1, 3])  # (batch_size, seq_len_q, num_heads, depth\n",
    "        \n",
    "        concat_attention = tf.reshape(scaled_attention, (batch_size, -1, self.d_model))  # (batch_size, seq_len_q, d_model)\n",
    "        \n",
    "        output = self.dense(concat_attention)  # (batch_size, seq_len_q, d_model)\n",
    "        \n",
    "        return output, attention_weights"
   ]
  },
  {
   "cell_type": "markdown",
   "metadata": {
    "id": "RdDqGayx67vv"
   },
   "source": [
    "## Point wise feed forward network"
   ]
  },
  {
   "cell_type": "markdown",
   "metadata": {
    "id": "gBqzJXGfHK3X"
   },
   "source": [
    "Point wise feed forward network consists of two fully-connected layers with a ReLU activation in between."
   ]
  },
  {
   "cell_type": "code",
   "execution_count": 24,
   "metadata": {
    "execution": {
     "iopub.execute_input": "2020-11-02T02:26:25.364864Z",
     "iopub.status.busy": "2020-11-02T02:26:25.364204Z",
     "iopub.status.idle": "2020-11-02T02:26:25.366219Z",
     "shell.execute_reply": "2020-11-02T02:26:25.366676Z"
    },
    "id": "ET7xLt0yCT6Z"
   },
   "outputs": [],
   "source": [
    "def point_wise_feed_forward_network(d_model, dff):\n",
    "    return tf.keras.Sequential([\n",
    "        tf.keras.layers.Dense(dff, activation='relu'),  # (batch_size, seq_len, dff)\n",
    "        tf.keras.layers.Dense(d_model)  # (batch_size, seq_len, d_model)\n",
    "    ])"
   ]
  },
  {
   "cell_type": "markdown",
   "metadata": {
    "id": "7e7hKcxn6-zd"
   },
   "source": [
    "## Encoder and decoder"
   ]
  },
  {
   "cell_type": "markdown",
   "metadata": {
    "id": "yScbC0MUH8dS"
   },
   "source": [
    "<img src=\"https://www.tensorflow.org/images/tutorials/transformer/transformer.png\" width=\"600\" alt=\"transformer\">"
   ]
  },
  {
   "cell_type": "markdown",
   "metadata": {
    "id": "MfYJG-Kvgwy2"
   },
   "source": [
    "The transformer model follows the same general pattern as a standard [sequence to sequence with attention model](nmt_with_attention.ipynb). \n",
    "\n",
    "* The input sentence is passed through `N` encoder layers that generates an output for each word/token in the sequence.\n",
    "* The decoder attends on the encoder's output and its own input (self-attention) to predict the next word. "
   ]
  },
  {
   "cell_type": "markdown",
   "metadata": {
    "id": "QFv-FNYUmvpn"
   },
   "source": [
    "### Encoder layer\n",
    "\n",
    "Each encoder layer consists of sublayers:\n",
    "\n",
    "1.   Multi-head attention (with padding mask) \n",
    "2.    Point wise feed forward networks. \n",
    "\n",
    "Each of these sublayers has a residual connection around it followed by a layer normalization. Residual connections help in avoiding the vanishing gradient problem in deep networks.\n",
    "\n",
    "The output of each sublayer is `LayerNorm(x + Sublayer(x))`. The normalization is done on the `d_model` (last) axis. There are N encoder layers in the transformer."
   ]
  },
  {
   "cell_type": "code",
   "execution_count": 25,
   "metadata": {
    "execution": {
     "iopub.execute_input": "2020-11-02T02:26:25.446072Z",
     "iopub.status.busy": "2020-11-02T02:26:25.445347Z",
     "iopub.status.idle": "2020-11-02T02:26:25.447785Z",
     "shell.execute_reply": "2020-11-02T02:26:25.447205Z"
    },
    "id": "ncyS-Ms3i2x_"
   },
   "outputs": [],
   "source": [
    "class EncoderLayer(tf.keras.layers.Layer):\n",
    "    def __init__(self, d_model, num_heads, dff, rate=0.1):\n",
    "        super(EncoderLayer, self).__init__()\n",
    "\n",
    "        self.mha = MultiHeadAttention(d_model, num_heads)\n",
    "        self.ffn = point_wise_feed_forward_network(d_model, dff)\n",
    "\n",
    "        self.layernorm1 = tf.keras.layers.LayerNormalization(epsilon=1e-6)\n",
    "        self.layernorm2 = tf.keras.layers.LayerNormalization(epsilon=1e-6)\n",
    "        \n",
    "        self.dropout1 = tf.keras.layers.Dropout(rate)\n",
    "        self.dropout2 = tf.keras.layers.Dropout(rate)\n",
    "    \n",
    "    def call(self, x, training, mask):\n",
    "        attn_output, _ = self.mha(x, x, x, mask)  # (batch_size, input_seq_len, d_model)\n",
    "        attn_output = self.dropout1(attn_output, training=training)\n",
    "        out1 = self.layernorm1(x + attn_output)  # (batch_size, input_seq_len, d_model)\n",
    "    \n",
    "        ffn_output = self.ffn(out1)  # (batch_size, input_seq_len, d_model)\n",
    "        ffn_output = self.dropout2(ffn_output, training=training)\n",
    "        out2 = self.layernorm2(out1 + ffn_output)  # (batch_size, input_seq_len, d_model)\n",
    "    \n",
    "        return out2"
   ]
  },
  {
   "cell_type": "markdown",
   "metadata": {
    "id": "6LO_48Owmx_o"
   },
   "source": [
    "### Decoder layer\n",
    "\n",
    "Each decoder layer consists of sublayers:\n",
    "\n",
    "1.   Masked multi-head attention (with look ahead mask and padding mask)\n",
    "2.   Multi-head attention (with padding mask). V (value) and K (key) receive the *encoder output* as inputs. Q (query) receives the *output from the masked multi-head attention sublayer.*\n",
    "3.   Point wise feed forward networks\n",
    "\n",
    "Each of these sublayers has a residual connection around it followed by a layer normalization. The output of each sublayer is `LayerNorm(x + Sublayer(x))`. The normalization is done on the `d_model` (last) axis.\n",
    "\n",
    "There are N decoder layers in the transformer.\n",
    "\n",
    "As Q receives the output from decoder's first attention block, and K receives the encoder output, the attention weights represent the importance given to the decoder's input based on the encoder's output. In other words, the decoder predicts the next word by looking at the encoder output and self-attending to its own output. See the demonstration above in the scaled dot product attention section."
   ]
  },
  {
   "cell_type": "code",
   "execution_count": 26,
   "metadata": {
    "execution": {
     "iopub.execute_input": "2020-11-02T02:26:25.592814Z",
     "iopub.status.busy": "2020-11-02T02:26:25.592125Z",
     "iopub.status.idle": "2020-11-02T02:26:25.593830Z",
     "shell.execute_reply": "2020-11-02T02:26:25.594250Z"
    },
    "id": "9SoX0-vd1hue"
   },
   "outputs": [],
   "source": [
    "class DecoderLayer(tf.keras.layers.Layer):\n",
    "    def __init__(self, d_model, num_heads, dff, rate=0.1):\n",
    "        super(DecoderLayer, self).__init__()\n",
    "        \n",
    "        self.mha1 = MultiHeadAttention(d_model, num_heads)\n",
    "        self.mha2 = MultiHeadAttention(d_model, num_heads)\n",
    "        \n",
    "        self.ffn = point_wise_feed_forward_network(d_model, dff)\n",
    "        \n",
    "        self.layernorm1 = tf.keras.layers.LayerNormalization(epsilon=1e-6)\n",
    "        self.layernorm2 = tf.keras.layers.LayerNormalization(epsilon=1e-6)\n",
    "        self.layernorm3 = tf.keras.layers.LayerNormalization(epsilon=1e-6)\n",
    "        \n",
    "        self.dropout1 = tf.keras.layers.Dropout(rate)\n",
    "        self.dropout2 = tf.keras.layers.Dropout(rate)\n",
    "        self.dropout3 = tf.keras.layers.Dropout(rate)\n",
    "    \n",
    "    def call(self, x, enc_output, training, look_ahead_mask, padding_mask):\n",
    "    # enc_output.shape == (batch_size, input_seq_len, d_model)\n",
    "        attn1, attn_weights_block1 = self.mha1(x, x, x, look_ahead_mask)  # (batch_size, target_seq_len, d_model)\n",
    "        attn1 = self.dropout1(attn1, training=training)\n",
    "        out1 = self.layernorm1(attn1 + x)\n",
    "        \n",
    "        attn2, attn_weights_block2 = self.mha2(\n",
    "            enc_output, enc_output, out1, padding_mask)  # (batch_size, target_seq_len, d_model)\n",
    "        attn2 = self.dropout2(attn2, training=training)\n",
    "        out2 = self.layernorm2(attn2 + out1)  # (batch_size, target_seq_len, d_model)\n",
    "        \n",
    "        ffn_output = self.ffn(out2)  # (batch_size, target_seq_len, d_model)\n",
    "        ffn_output = self.dropout3(ffn_output, training=training)\n",
    "        out3 = self.layernorm3(ffn_output + out2)  # (batch_size, target_seq_len, d_model)\n",
    "    \n",
    "        return out3, attn_weights_block1, attn_weights_block2"
   ]
  },
  {
   "cell_type": "markdown",
   "metadata": {
    "id": "SE1H51Ajm0q1"
   },
   "source": [
    "### Encoder\n",
    "\n",
    "The `Encoder` consists of:\n",
    "1.   Input Embedding\n",
    "2.   Positional Encoding\n",
    "3.   N encoder layers\n",
    "\n",
    "The input is put through an embedding which is summed with the positional encoding. The output of this summation is the input to the encoder layers. The output of the encoder is the input to the decoder."
   ]
  },
  {
   "cell_type": "code",
   "execution_count": 27,
   "metadata": {
    "execution": {
     "iopub.execute_input": "2020-11-02T02:26:25.814730Z",
     "iopub.status.busy": "2020-11-02T02:26:25.814013Z",
     "iopub.status.idle": "2020-11-02T02:26:25.816267Z",
     "shell.execute_reply": "2020-11-02T02:26:25.815698Z"
    },
    "id": "jpEox7gJ8FCI"
   },
   "outputs": [],
   "source": [
    "class Encoder(tf.keras.layers.Layer):\n",
    "    def __init__(self, num_layers, d_model, num_heads, dff, input_vocab_size, maximum_position_encoding, rate=0.1):\n",
    "        super(Encoder, self).__init__()\n",
    "        \n",
    "        self.d_model = d_model\n",
    "        self.num_layers = num_layers\n",
    "        \n",
    "        self.embedding = tf.keras.layers.Embedding(input_vocab_size, d_model)\n",
    "        self.pos_encoding = positional_encoding(maximum_position_encoding, self.d_model)\n",
    "    \n",
    "    \n",
    "        self.enc_layers = [EncoderLayer(d_model, num_heads, dff, rate) for _ in range(num_layers)]\n",
    "  \n",
    "        self.dropout = tf.keras.layers.Dropout(rate)\n",
    "        \n",
    "    def call(self, x, training, mask):\n",
    "        \n",
    "        seq_len = tf.shape(x)[1]\n",
    "    \n",
    "        # adding embedding and position encoding.\n",
    "        x = self.embedding(x)  # (batch_size, input_seq_len, d_model)\n",
    "        x *= tf.math.sqrt(tf.cast(self.d_model, tf.float32))\n",
    "        x += self.pos_encoding[:, :seq_len, :]\n",
    "\n",
    "        x = self.dropout(x, training=training)\n",
    "    \n",
    "        for i in range(self.num_layers):\n",
    "            x = self.enc_layers[i](x, training, mask)\n",
    "    \n",
    "        return x  # (batch_size, input_seq_len, d_model)"
   ]
  },
  {
   "cell_type": "markdown",
   "metadata": {
    "id": "p-uO6ls8m2O5"
   },
   "source": [
    "### Decoder"
   ]
  },
  {
   "cell_type": "markdown",
   "metadata": {
    "id": "ZtT7PKzrXkNr"
   },
   "source": [
    " The `Decoder` consists of:\n",
    "1.   Output Embedding\n",
    "2.   Positional Encoding\n",
    "3.   N decoder layers\n",
    "\n",
    "The target is put through an embedding which is summed with the positional encoding. The output of this summation is the input to the decoder layers. The output of the decoder is the input to the final linear layer."
   ]
  },
  {
   "cell_type": "code",
   "execution_count": 28,
   "metadata": {
    "execution": {
     "iopub.execute_input": "2020-11-02T02:26:26.368605Z",
     "iopub.status.busy": "2020-11-02T02:26:26.367591Z",
     "iopub.status.idle": "2020-11-02T02:26:26.369596Z",
     "shell.execute_reply": "2020-11-02T02:26:26.369997Z"
    },
    "id": "d5_d5-PLQXwY"
   },
   "outputs": [],
   "source": [
    "class Decoder(tf.keras.layers.Layer):\n",
    "    def __init__(self, num_layers, d_model, num_heads, dff, target_vocab_size, maximum_position_encoding, rate=0.1):\n",
    "        super(Decoder, self).__init__()\n",
    "        \n",
    "        self.d_model = d_model\n",
    "        self.num_layers = num_layers\n",
    "    \n",
    "        self.embedding = tf.keras.layers.Embedding(target_vocab_size, d_model)\n",
    "        self.pos_encoding = positional_encoding(maximum_position_encoding, d_model)\n",
    "        \n",
    "        self.dec_layers = [DecoderLayer(d_model, num_heads, dff, rate) for _ in range(num_layers)]\n",
    "        self.dropout = tf.keras.layers.Dropout(rate)\n",
    "    \n",
    "    def call(self, x, enc_output, training, look_ahead_mask, padding_mask):\n",
    "        seq_len = tf.shape(x)[1]\n",
    "        attention_weights = {}\n",
    "        x = self.embedding(x)  # (batch_size, target_seq_len, d_model)\n",
    "        x *= tf.math.sqrt(tf.cast(self.d_model, tf.float32))\n",
    "        x += self.pos_encoding[:, :seq_len, :]\n",
    "        \n",
    "        x = self.dropout(x, training=training)\n",
    "        \n",
    "        for i in range(self.num_layers):\n",
    "            x, block1, block2 = self.dec_layers[i](x, enc_output, training, look_ahead_mask, padding_mask)\n",
    "            \n",
    "            attention_weights['decoder_layer{}_block1'.format(i+1)] = block1\n",
    "            attention_weights['decoder_layer{}_block2'.format(i+1)] = block2\n",
    "            \n",
    "        # x.shape == (batch_size, target_seq_len, d_model)\n",
    "        return x, attention_weights"
   ]
  },
  {
   "cell_type": "markdown",
   "metadata": {
    "id": "y54xnJnuYgJ7"
   },
   "source": [
    "## Create the Transformer"
   ]
  },
  {
   "cell_type": "markdown",
   "metadata": {
    "id": "uERO1y54cOKq"
   },
   "source": [
    "Transformer consists of the encoder, decoder and a final linear layer. The output of the decoder is the input to the linear layer and its output is returned."
   ]
  },
  {
   "cell_type": "code",
   "execution_count": 29,
   "metadata": {
    "execution": {
     "iopub.execute_input": "2020-11-02T02:26:26.763467Z",
     "iopub.status.busy": "2020-11-02T02:26:26.762728Z",
     "iopub.status.idle": "2020-11-02T02:26:26.764477Z",
     "shell.execute_reply": "2020-11-02T02:26:26.764889Z"
    },
    "id": "PED3bIpOYkBu"
   },
   "outputs": [],
   "source": [
    "class Transformer(tf.keras.Model):\n",
    "    def __init__(self, num_layers, d_model, num_heads, dff, input_vocab_size, \n",
    "                 target_vocab_size, pe_input, pe_target, rate=0.1):\n",
    "        super(Transformer, self).__init__()\n",
    "        self.encoder = Encoder(num_layers, d_model, num_heads, dff, input_vocab_size, pe_input, rate)\n",
    "            \n",
    "        self.decoder = Decoder(num_layers, d_model, num_heads, dff, target_vocab_size, pe_target, rate)\n",
    "        \n",
    "        self.final_layer = tf.keras.layers.Dense(target_vocab_size)\n",
    "                \n",
    "    def call(self, inp, tar, training, enc_padding_mask, look_ahead_mask, dec_padding_mask):\n",
    "        \n",
    "        enc_output = self.encoder(inp, training, enc_padding_mask)  # (batch_size, inp_seq_len, d_model)\n",
    "        \n",
    "        # dec_output.shape == (batch_size, tar_seq_len, d_model)\n",
    "        dec_output, attention_weights = self.decoder(tar, enc_output, training, look_ahead_mask, dec_padding_mask)\n",
    "        \n",
    "        final_output = self.final_layer(dec_output)  # (batch_size, tar_seq_len, target_vocab_size)\n",
    "        \n",
    "        return final_output, attention_weights"
   ]
  },
  {
   "cell_type": "markdown",
   "metadata": {
    "id": "wsINyf1VEQLC"
   },
   "source": [
    "## Set hyperparameters"
   ]
  },
  {
   "cell_type": "markdown",
   "metadata": {
    "id": "zVjWCxFNcgbt"
   },
   "source": [
    "To keep this example small and relatively fast, the values for *num_layers, d_model, and dff* have been reduced. \n",
    "\n",
    "The values used in the base model of transformer were; *num_layers=6*, *d_model = 512*, *dff = 2048*. See the [paper](https://arxiv.org/abs/1706.03762) for all the other versions of the transformer.\n",
    "\n",
    "Note: By changing the values below, you can get the model that achieved state of the art on many tasks."
   ]
  },
  {
   "cell_type": "code",
   "execution_count": 30,
   "metadata": {
    "execution": {
     "iopub.execute_input": "2020-11-02T02:26:27.701337Z",
     "iopub.status.busy": "2020-11-02T02:26:27.700717Z",
     "iopub.status.idle": "2020-11-02T02:26:27.702463Z",
     "shell.execute_reply": "2020-11-02T02:26:27.702871Z"
    },
    "id": "lnJn5SLA2ahP"
   },
   "outputs": [],
   "source": [
    "num_layers = 2\n",
    "d_model = 64\n",
    "dff = 256\n",
    "num_heads = 4\n",
    "\n",
    "input_vocab_size = tokenizer.vocab_size + 2\n",
    "target_vocab_size = tokenizer.vocab_size + 2\n",
    "dropout_rate = 0.1"
   ]
  },
  {
   "cell_type": "markdown",
   "metadata": {
    "id": "xYEGhEOtzn5W"
   },
   "source": [
    "## Optimizer"
   ]
  },
  {
   "cell_type": "markdown",
   "metadata": {
    "id": "GOmWW--yP3zx"
   },
   "source": [
    "Use the Adam optimizer with a custom learning rate scheduler according to the formula in the [paper](https://arxiv.org/abs/1706.03762).\n",
    "\n",
    "$$\\Large{lrate = d_{model}^{-0.5} * min(step{\\_}num^{-0.5}, step{\\_}num * warmup{\\_}steps^{-1.5})}$$\n"
   ]
  },
  {
   "cell_type": "code",
   "execution_count": 31,
   "metadata": {
    "execution": {
     "iopub.execute_input": "2020-11-02T02:26:27.709107Z",
     "iopub.status.busy": "2020-11-02T02:26:27.708470Z",
     "iopub.status.idle": "2020-11-02T02:26:27.710049Z",
     "shell.execute_reply": "2020-11-02T02:26:27.710587Z"
    },
    "id": "iYQdOO1axwEI"
   },
   "outputs": [],
   "source": [
    "class CustomSchedule(tf.keras.optimizers.schedules.LearningRateSchedule):\n",
    "    def __init__(self, d_model, warmup_steps=4000):\n",
    "        super(CustomSchedule, self).__init__()\n",
    "        self.d_model = d_model\n",
    "        self.d_model = tf.cast(self.d_model, tf.float32)\n",
    "        \n",
    "        self.warmup_steps = warmup_steps\n",
    "    \n",
    "    def __call__(self, step):\n",
    "        arg1 = tf.math.rsqrt(step)\n",
    "        arg2 = step * (self.warmup_steps ** -1.5)\n",
    "        \n",
    "        return tf.math.rsqrt(self.d_model) * tf.math.minimum(arg1, arg2)"
   ]
  },
  {
   "cell_type": "code",
   "execution_count": 32,
   "metadata": {
    "execution": {
     "iopub.execute_input": "2020-11-02T02:26:27.715008Z",
     "iopub.status.busy": "2020-11-02T02:26:27.714374Z",
     "iopub.status.idle": "2020-11-02T02:26:27.716089Z",
     "shell.execute_reply": "2020-11-02T02:26:27.716593Z"
    },
    "id": "7r4scdulztRx"
   },
   "outputs": [],
   "source": [
    "learning_rate = CustomSchedule(d_model)\n",
    "\n",
    "optimizer = tf.keras.optimizers.Adam(learning_rate, beta_1=0.9, beta_2=0.98, \n",
    "                                     epsilon=1e-9)"
   ]
  },
  {
   "cell_type": "code",
   "execution_count": 33,
   "metadata": {
    "execution": {
     "iopub.execute_input": "2020-11-02T02:26:27.720844Z",
     "iopub.status.busy": "2020-11-02T02:26:27.720237Z",
     "iopub.status.idle": "2020-11-02T02:26:27.866519Z",
     "shell.execute_reply": "2020-11-02T02:26:27.865886Z"
    },
    "id": "f33ZCgvHpPdG"
   },
   "outputs": [
    {
     "data": {
      "text/plain": [
       "Text(0.5, 0, 'Train Step')"
      ]
     },
     "execution_count": 33,
     "metadata": {},
     "output_type": "execute_result"
    },
    {
     "data": {
      "image/png": "[encoded data removed]",
      "text/plain": [
       "<Figure size 432x288 with 1 Axes>"
      ]
     },
     "metadata": {
      "needs_background": "light"
     },
     "output_type": "display_data"
    }
   ],
   "source": [
    "temp_learning_rate_schedule = CustomSchedule(d_model)\n",
    "\n",
    "plt.plot(temp_learning_rate_schedule(tf.range(40000, dtype=tf.float32)))\n",
    "plt.ylabel(\"Learning Rate\")\n",
    "plt.xlabel(\"Train Step\")"
   ]
  },
  {
   "cell_type": "markdown",
   "metadata": {
    "id": "YgkDE7hzo8r5"
   },
   "source": [
    "## Loss and metrics"
   ]
  },
  {
   "cell_type": "markdown",
   "metadata": {
    "id": "oxGJtoDuYIHL"
   },
   "source": [
    "Since the target sequences are padded, it is important to apply a padding mask when calculating the loss."
   ]
  },
  {
   "cell_type": "code",
   "execution_count": 34,
   "metadata": {
    "execution": {
     "iopub.execute_input": "2020-11-02T02:26:27.870775Z",
     "iopub.status.busy": "2020-11-02T02:26:27.870132Z",
     "iopub.status.idle": "2020-11-02T02:26:27.871766Z",
     "shell.execute_reply": "2020-11-02T02:26:27.872206Z"
    },
    "id": "MlhsJMm0TW_B"
   },
   "outputs": [],
   "source": [
    "loss_object = tf.keras.losses.SparseCategoricalCrossentropy(\n",
    "    from_logits=True, reduction='none')\n",
    "# from_logits = True, apply softmax function, returns probability"
   ]
  },
  {
   "cell_type": "code",
   "execution_count": 35,
   "metadata": {
    "execution": {
     "iopub.execute_input": "2020-11-02T02:26:27.879108Z",
     "iopub.status.busy": "2020-11-02T02:26:27.878422Z",
     "iopub.status.idle": "2020-11-02T02:26:27.880191Z",
     "shell.execute_reply": "2020-11-02T02:26:27.880573Z"
    },
    "id": "67oqVHiT0Eiu"
   },
   "outputs": [],
   "source": [
    "# pred.shape = (batch_size, seq_len, embed_dimension)\n",
    "\n",
    "def loss_function(real, pred):\n",
    "    mask = tf.math.logical_not(tf.math.equal(real, 0))\n",
    "    loss_ = loss_object(real, pred)\n",
    "    \n",
    "    # mask.shape = (batch_size, seq_len)\n",
    "    # loss_.shape = (batch_size, seq_len)\n",
    "    \n",
    "    mask = tf.cast(mask, dtype=loss_.dtype)\n",
    "    loss_ *= mask\n",
    "  \n",
    "    return tf.reduce_sum(loss_)/tf.reduce_sum(mask)\n",
    "\n",
    "\n",
    "def accuracy_function(real, pred):\n",
    "    accuracies = tf.equal(real, tf.argmax(pred, axis=2))\n",
    "  \n",
    "    mask = tf.math.logical_not(tf.math.equal(real, 0))\n",
    "    accuracies = tf.math.logical_and(mask, accuracies)\n",
    "    \n",
    "    accuracies = tf.cast(accuracies, dtype=tf.float32)\n",
    "    mask = tf.cast(mask, dtype=tf.float32)\n",
    "    return tf.reduce_sum(accuracies)/tf.reduce_sum(mask)"
   ]
  },
  {
   "cell_type": "code",
   "execution_count": 36,
   "metadata": {
    "execution": {
     "iopub.execute_input": "2020-11-02T02:26:27.890929Z",
     "iopub.status.busy": "2020-11-02T02:26:27.890255Z",
     "iopub.status.idle": "2020-11-02T02:26:27.898638Z",
     "shell.execute_reply": "2020-11-02T02:26:27.899073Z"
    },
    "id": "phlyxMnm-Tpx"
   },
   "outputs": [],
   "source": [
    "train_loss = tf.keras.metrics.Mean(name='train_loss')\n",
    "train_accuracy = tf.keras.metrics.Mean(name='train_accuracy')"
   ]
  },
  {
   "cell_type": "markdown",
   "metadata": {
    "id": "aeHumfr7zmMa"
   },
   "source": [
    "## Training and checkpointing"
   ]
  },
  {
   "cell_type": "code",
   "execution_count": 37,
   "metadata": {
    "execution": {
     "iopub.execute_input": "2020-11-02T02:26:27.904511Z",
     "iopub.status.busy": "2020-11-02T02:26:27.903860Z",
     "iopub.status.idle": "2020-11-02T02:26:28.059188Z",
     "shell.execute_reply": "2020-11-02T02:26:28.059633Z"
    },
    "id": "UiysUa--4tOU"
   },
   "outputs": [],
   "source": [
    "transformer = Transformer(num_layers, d_model, num_heads, dff,\n",
    "                          input_vocab_size, target_vocab_size, \n",
    "                          pe_input=input_vocab_size, \n",
    "                          pe_target=target_vocab_size,\n",
    "                          rate=dropout_rate)"
   ]
  },
  {
   "cell_type": "code",
   "execution_count": 38,
   "metadata": {
    "execution": {
     "iopub.execute_input": "2020-11-02T02:26:28.065224Z",
     "iopub.status.busy": "2020-11-02T02:26:28.064487Z",
     "iopub.status.idle": "2020-11-02T02:26:28.066163Z",
     "shell.execute_reply": "2020-11-02T02:26:28.066631Z"
    },
    "id": "ZOJUSB1T8GjM"
   },
   "outputs": [],
   "source": [
    "def create_masks(inp, tar):\n",
    "    # Encoder padding mask\n",
    "    enc_padding_mask = create_padding_mask(inp)\n",
    "    \n",
    "    # Used in the 2nd attention block in the decoder.\n",
    "    # This padding mask is used to mask the encoder outputs.\n",
    "    dec_padding_mask = create_padding_mask(inp)\n",
    "      \n",
    "    # Used in the 1st attention block in the decoder.\n",
    "    # It is used to pad and mask future tokens in the input received by \n",
    "    # the decoder.\n",
    "    look_ahead_mask = create_look_ahead_mask(tf.shape(tar)[1])\n",
    "    dec_target_padding_mask = create_padding_mask(tar)\n",
    "    combined_mask = tf.maximum(dec_target_padding_mask, look_ahead_mask)\n",
    "    \n",
    "    return enc_padding_mask, combined_mask, dec_padding_mask"
   ]
  },
  {
   "cell_type": "markdown",
   "metadata": {
    "id": "Fzuf06YZp66w"
   },
   "source": [
    "Create the checkpoint path and the checkpoint manager. This will be used to save checkpoints every `n` epochs."
   ]
  },
  {
   "cell_type": "code",
   "execution_count": 39,
   "metadata": {
    "execution": {
     "iopub.execute_input": "2020-11-02T02:26:28.072057Z",
     "iopub.status.busy": "2020-11-02T02:26:28.071394Z",
     "iopub.status.idle": "2020-11-02T02:26:28.073614Z",
     "shell.execute_reply": "2020-11-02T02:26:28.073034Z"
    },
    "id": "hNhuYfllndLZ"
   },
   "outputs": [
    {
     "name": "stdout",
     "output_type": "stream",
     "text": [
      "Latest checkpoint restored!!\n"
     ]
    }
   ],
   "source": [
    "checkpoint_path = \"./checkpoints/train\"\n",
    "\n",
    "ckpt = tf.train.Checkpoint(transformer=transformer,\n",
    "                           optimizer=optimizer)\n",
    "\n",
    "ckpt_manager = tf.train.CheckpointManager(ckpt, checkpoint_path, max_to_keep=250)\n",
    "\n",
    "# if a checkpoint exists, restore the latest checkpoint.\n",
    "if ckpt_manager.latest_checkpoint:\n",
    "    ckpt.restore(ckpt_manager.latest_checkpoint)\n",
    "    print ('Latest checkpoint restored!!')"
   ]
  },
  {
   "cell_type": "code",
   "execution_count": 40,
   "metadata": {
    "execution": {
     "iopub.execute_input": "2020-11-02T02:26:28.086043Z",
     "iopub.status.busy": "2020-11-02T02:26:28.085376Z",
     "iopub.status.idle": "2020-11-02T02:26:28.087078Z",
     "shell.execute_reply": "2020-11-02T02:26:28.087521Z"
    },
    "id": "iJwmp9OE29oj"
   },
   "outputs": [],
   "source": [
    "# The @tf.function trace-compiles train_step into a TF graph for faster\n",
    "# execution. The function specializes to the precise shape of the argument\n",
    "# tensors. To avoid re-tracing due to the variable sequence lengths or variable\n",
    "# batch sizes (the last batch is smaller), use input_signature to specify\n",
    "# more generic shapes.\n",
    "\n",
    "train_step_signature = [\n",
    "    tf.TensorSpec(shape=(None, None), dtype=tf.int64),\n",
    "    tf.TensorSpec(shape=(None, None), dtype=tf.int64),\n",
    "]\n",
    "\n",
    "@tf.function(input_signature=train_step_signature)\n",
    "def train_step(inp, tar):\n",
    "    tar_inp = tar[:, :-1]\n",
    "    tar_real = tar[:, 1:]\n",
    "    \n",
    "    enc_padding_mask, combined_mask, dec_padding_mask = create_masks(inp, tar_inp)\n",
    "    \n",
    "    with tf.GradientTape() as tape:\n",
    "        predictions, _ = transformer(inp, tar_inp, \n",
    "                                     True, \n",
    "                                     enc_padding_mask, \n",
    "                                     combined_mask, \n",
    "                                     dec_padding_mask)\n",
    "        loss = loss_function(tar_real, predictions)\n",
    "    \n",
    "    gradients = tape.gradient(loss, transformer.trainable_variables)    \n",
    "    optimizer.apply_gradients(zip(gradients, transformer.trainable_variables))\n",
    "      \n",
    "    train_loss(loss)\n",
    "    train_accuracy(accuracy_function(tar_real, predictions))"
   ]
  },
  {
   "cell_type": "code",
   "execution_count": 41,
   "metadata": {},
   "outputs": [],
   "source": [
    "val_loss = tf.keras.metrics.Mean(name='val_loss')\n",
    "val_accuracy = tf.keras.metrics.Mean(name='val_accuracy')\n",
    "\n",
    "def val_step(inp, tar):\n",
    "    tar_inp = tar[:, :-1]\n",
    "    tar_real = tar[:, 1:]\n",
    "    \n",
    "    enc_padding_mask, combined_mask, dec_padding_mask = create_masks(inp, tar_inp)\n",
    "    \n",
    "    # change training to FALSE\n",
    "    predictions, _ = transformer(inp, tar_inp, \n",
    "                                 False, \n",
    "                                 enc_padding_mask, \n",
    "                                 combined_mask, \n",
    "                                 dec_padding_mask)\n",
    "    loss = loss_function(tar_real, predictions)\n",
    "    \n",
    "    \n",
    "    val_loss(loss)\n",
    "    val_accuracy(accuracy_function(tar_real, predictions))"
   ]
  },
  {
   "cell_type": "markdown",
   "metadata": {
    "id": "qM2PDWGDJ_8V"
   },
   "source": [
    "French sentence with an error (incorrect homophone) is used as the input language and correct sentence is the target."
   ]
  },
  {
   "cell_type": "markdown",
   "metadata": {},
   "source": [
    "# TRAIN ###"
   ]
  },
  {
   "cell_type": "code",
   "execution_count": 42,
   "metadata": {},
   "outputs": [],
   "source": [
    "def train_model(epochs=10):\n",
    "    \n",
    "    start_training = datetime.now()\n",
    "    \n",
    "    history_train_losses = []\n",
    "    history_train_accuracies = []\n",
    "    history_val_losses = []\n",
    "    history_val_accuracies = []\n",
    "    \n",
    "    for epoch in range(epochs):\n",
    "\n",
    "        if epoch == 0:\n",
    "            start = time.time()\n",
    "\n",
    "        train_loss.reset_states()\n",
    "        train_accuracy.reset_states()\n",
    "        val_loss.reset_states()\n",
    "        val_accuracy.reset_states()\n",
    "\n",
    "\n",
    "        for (batch, (inp, tar)) in enumerate(val_dataset):\n",
    "            val_step(inp, tar)\n",
    "\n",
    "        # inp -> homophone with noise, tar -> correct homophone\n",
    "        for (batch, (inp, tar)) in enumerate(train_dataset):\n",
    "            train_step(inp, tar)\n",
    "\n",
    "            #if batch % 4 == 0:\n",
    "                #print ('Epoch {} Batch {} Loss {:.4f} Accuracy {:.4f}'.format(\n",
    "                    #epoch + 1, batch, train_loss.result(), train_accuracy.result()))\n",
    "        if (epoch + 1) % 1 == 0:\n",
    "            ckpt_save_path = ckpt_manager.save()\n",
    "            print ('Saving checkpoint for epoch {} at {}'.format(epoch+1, ckpt_save_path))\n",
    "\n",
    "        if (epoch + 1) % 1 == 0:\n",
    "            print ('Epoch {} Training Loss {:.4f} Accuracy {:.4f}'.format(epoch + 1, \n",
    "                                                                 train_loss.result(), \n",
    "                                                                 train_accuracy.result()))\n",
    "            print ('Epoch {} Validation Loss {:.4f} Accuracy {:.4f}'.format(epoch + 1, \n",
    "                                                                 val_loss.result(), \n",
    "                                                                 val_accuracy.result()))\n",
    "            print ('Time taken for 1 epoch: {} secs\\n'.format(time.time() - start))\n",
    "            start = time.time()\n",
    "\n",
    "        history_train_losses.append(train_loss.result())\n",
    "        history_train_accuracies.append(train_accuracy.result())\n",
    "        history_val_losses.append(val_loss.result())\n",
    "        history_val_accuracies.append(val_accuracy.result())\n",
    "        \n",
    "        pickle.dump(history_train_losses,open(\"history_train_losses.pickle\", \"wb\"))\n",
    "        pickle.dump(history_val_losses,open(\"history_val_losses.pickle\", \"wb\"))\n",
    "        pickle.dump(history_train_accuracies,open(\"history_train_accuracies.pickle\", \"wb\"))\n",
    "        pickle.dump(history_val_accuracies,open(\"history_val_accuracies.pickle\", \"wb\"))\n",
    "    \n",
    "    end_training = datetime.now()\n",
    "    delta = end_training - start_training\n",
    "    delta_minutes = int(round(delta.seconds / 60))\n",
    "    d = delta_minutes\n",
    "    d_unit = \"minutes\"\n",
    "    if delta_minutes == 0:\n",
    "        d = delta.seconds\n",
    "        d_unit = \"seconds\"\n",
    "    print(\"\\nTime taken for training (~{} {})\".format(d, d_unit))"
   ]
  },
  {
   "cell_type": "code",
   "execution_count": 43,
   "metadata": {},
   "outputs": [
    {
     "name": "stdout",
     "output_type": "stream",
     "text": [
      "Saving checkpoint for epoch 1 at ./checkpoints/train\\ckpt-1\n",
      "Epoch 1 Training Loss 3.8693 Accuracy 0.4002\n",
      "Epoch 1 Validation Loss 6.9976 Accuracy 0.0006\n",
      "Time taken for 1 epoch: 85.14414811134338 secs\n",
      "\n",
      "Saving checkpoint for epoch 2 at ./checkpoints/train\\ckpt-2\n",
      "Epoch 2 Training Loss 0.1179 Accuracy 0.9709\n",
      "Epoch 2 Validation Loss 0.0972 Accuracy 0.9781\n",
      "Time taken for 1 epoch: 61.31328320503235 secs\n",
      "\n",
      "Saving checkpoint for epoch 3 at ./checkpoints/train\\ckpt-3\n",
      "Epoch 3 Training Loss 0.0799 Accuracy 0.9783\n",
      "Epoch 3 Validation Loss 0.0536 Accuracy 0.9828\n",
      "Time taken for 1 epoch: 63.101914405822754 secs\n",
      "\n",
      "Saving checkpoint for epoch 4 at ./checkpoints/train\\ckpt-4\n",
      "Epoch 4 Training Loss 0.0543 Accuracy 0.9849\n",
      "Epoch 4 Validation Loss 0.0431 Accuracy 0.9862\n",
      "Time taken for 1 epoch: 61.751935720443726 secs\n",
      "\n",
      "Saving checkpoint for epoch 5 at ./checkpoints/train\\ckpt-5\n",
      "Epoch 5 Training Loss 0.0410 Accuracy 0.9886\n",
      "Epoch 5 Validation Loss 0.0346 Accuracy 0.9886\n",
      "Time taken for 1 epoch: 62.181031465530396 secs\n",
      "\n",
      "Saving checkpoint for epoch 6 at ./checkpoints/train\\ckpt-6\n",
      "Epoch 6 Training Loss 0.0331 Accuracy 0.9907\n",
      "Epoch 6 Validation Loss 0.0271 Accuracy 0.9909\n",
      "Time taken for 1 epoch: 61.962406396865845 secs\n",
      "\n",
      "Saving checkpoint for epoch 7 at ./checkpoints/train\\ckpt-7\n",
      "Epoch 7 Training Loss 0.0277 Accuracy 0.9920\n",
      "Epoch 7 Validation Loss 0.0250 Accuracy 0.9914\n",
      "Time taken for 1 epoch: 62.849520444869995 secs\n",
      "\n",
      "Saving checkpoint for epoch 8 at ./checkpoints/train\\ckpt-8\n",
      "Epoch 8 Training Loss 0.0246 Accuracy 0.9928\n",
      "Epoch 8 Validation Loss 0.0231 Accuracy 0.9924\n",
      "Time taken for 1 epoch: 62.36595177650452 secs\n",
      "\n",
      "Saving checkpoint for epoch 9 at ./checkpoints/train\\ckpt-9\n",
      "Epoch 9 Training Loss 0.0222 Accuracy 0.9935\n",
      "Epoch 9 Validation Loss 0.0192 Accuracy 0.9933\n",
      "Time taken for 1 epoch: 61.60804986953735 secs\n",
      "\n",
      "Saving checkpoint for epoch 10 at ./checkpoints/train\\ckpt-10\n",
      "Epoch 10 Training Loss 0.0205 Accuracy 0.9939\n",
      "Epoch 10 Validation Loss 0.0192 Accuracy 0.9937\n",
      "Time taken for 1 epoch: 61.9398672580719 secs\n",
      "\n",
      "Saving checkpoint for epoch 11 at ./checkpoints/train\\ckpt-11\n",
      "Epoch 11 Training Loss 0.0189 Accuracy 0.9943\n",
      "Epoch 11 Validation Loss 0.0174 Accuracy 0.9942\n",
      "Time taken for 1 epoch: 61.996405601501465 secs\n",
      "\n",
      "Saving checkpoint for epoch 12 at ./checkpoints/train\\ckpt-12\n",
      "Epoch 12 Training Loss 0.0181 Accuracy 0.9947\n",
      "Epoch 12 Validation Loss 0.0169 Accuracy 0.9944\n",
      "Time taken for 1 epoch: 62.165786266326904 secs\n",
      "\n",
      "Saving checkpoint for epoch 13 at ./checkpoints/train\\ckpt-13\n",
      "Epoch 13 Training Loss 0.0174 Accuracy 0.9949\n",
      "Epoch 13 Validation Loss 0.0154 Accuracy 0.9948\n",
      "Time taken for 1 epoch: 61.973660945892334 secs\n",
      "\n",
      "Saving checkpoint for epoch 14 at ./checkpoints/train\\ckpt-14\n",
      "Epoch 14 Training Loss 0.0166 Accuracy 0.9951\n",
      "Epoch 14 Validation Loss 0.0158 Accuracy 0.9947\n",
      "Time taken for 1 epoch: 61.844329595565796 secs\n",
      "\n",
      "Saving checkpoint for epoch 15 at ./checkpoints/train\\ckpt-15\n",
      "Epoch 15 Training Loss 0.0156 Accuracy 0.9953\n",
      "Epoch 15 Validation Loss 0.0142 Accuracy 0.9951\n",
      "Time taken for 1 epoch: 61.691489696502686 secs\n",
      "\n",
      "Saving checkpoint for epoch 16 at ./checkpoints/train\\ckpt-16\n",
      "Epoch 16 Training Loss 0.0150 Accuracy 0.9955\n",
      "Epoch 16 Validation Loss 0.0151 Accuracy 0.9951\n",
      "Time taken for 1 epoch: 61.50458025932312 secs\n",
      "\n",
      "Saving checkpoint for epoch 17 at ./checkpoints/train\\ckpt-17\n",
      "Epoch 17 Training Loss 0.0147 Accuracy 0.9956\n",
      "Epoch 17 Validation Loss 0.0140 Accuracy 0.9953\n",
      "Time taken for 1 epoch: 62.22700309753418 secs\n",
      "\n",
      "Saving checkpoint for epoch 18 at ./checkpoints/train\\ckpt-18\n",
      "Epoch 18 Training Loss 0.0142 Accuracy 0.9958\n",
      "Epoch 18 Validation Loss 0.0134 Accuracy 0.9955\n",
      "Time taken for 1 epoch: 64.12416362762451 secs\n",
      "\n",
      "Saving checkpoint for epoch 19 at ./checkpoints/train\\ckpt-19\n",
      "Epoch 19 Training Loss 0.0135 Accuracy 0.9960\n",
      "Epoch 19 Validation Loss 0.0138 Accuracy 0.9955\n",
      "Time taken for 1 epoch: 64.63666725158691 secs\n",
      "\n",
      "Saving checkpoint for epoch 20 at ./checkpoints/train\\ckpt-20\n",
      "Epoch 20 Training Loss 0.0132 Accuracy 0.9961\n",
      "Epoch 20 Validation Loss 0.0132 Accuracy 0.9956\n",
      "Time taken for 1 epoch: 62.324193716049194 secs\n",
      "\n",
      "Saving checkpoint for epoch 21 at ./checkpoints/train\\ckpt-21\n",
      "Epoch 21 Training Loss 0.0128 Accuracy 0.9961\n",
      "Epoch 21 Validation Loss 0.0141 Accuracy 0.9953\n",
      "Time taken for 1 epoch: 62.67407846450806 secs\n",
      "\n",
      "Saving checkpoint for epoch 22 at ./checkpoints/train\\ckpt-22\n",
      "Epoch 22 Training Loss 0.0126 Accuracy 0.9962\n",
      "Epoch 22 Validation Loss 0.0134 Accuracy 0.9956\n",
      "Time taken for 1 epoch: 62.950841426849365 secs\n",
      "\n",
      "Saving checkpoint for epoch 23 at ./checkpoints/train\\ckpt-23\n",
      "Epoch 23 Training Loss 0.0124 Accuracy 0.9963\n",
      "Epoch 23 Validation Loss 0.0125 Accuracy 0.9959\n",
      "Time taken for 1 epoch: 61.93674373626709 secs\n",
      "\n",
      "Saving checkpoint for epoch 24 at ./checkpoints/train\\ckpt-24\n",
      "Epoch 24 Training Loss 0.0118 Accuracy 0.9964\n",
      "Epoch 24 Validation Loss 0.0137 Accuracy 0.9955\n",
      "Time taken for 1 epoch: 61.984293699264526 secs\n",
      "\n",
      "Saving checkpoint for epoch 25 at ./checkpoints/train\\ckpt-25\n",
      "Epoch 25 Training Loss 0.0117 Accuracy 0.9964\n",
      "Epoch 25 Validation Loss 0.0129 Accuracy 0.9957\n",
      "Time taken for 1 epoch: 62.04919505119324 secs\n",
      "\n",
      "Saving checkpoint for epoch 26 at ./checkpoints/train\\ckpt-26\n",
      "Epoch 26 Training Loss 0.0115 Accuracy 0.9966\n",
      "Epoch 26 Validation Loss 0.0124 Accuracy 0.9959\n",
      "Time taken for 1 epoch: 64.2447292804718 secs\n",
      "\n",
      "Saving checkpoint for epoch 27 at ./checkpoints/train\\ckpt-27\n",
      "Epoch 27 Training Loss 0.0114 Accuracy 0.9966\n",
      "Epoch 27 Validation Loss 0.0140 Accuracy 0.9956\n",
      "Time taken for 1 epoch: 64.96406102180481 secs\n",
      "\n",
      "Saving checkpoint for epoch 28 at ./checkpoints/train\\ckpt-28\n",
      "Epoch 28 Training Loss 0.0112 Accuracy 0.9966\n",
      "Epoch 28 Validation Loss 0.0126 Accuracy 0.9960\n",
      "Time taken for 1 epoch: 63.380433797836304 secs\n",
      "\n",
      "Saving checkpoint for epoch 29 at ./checkpoints/train\\ckpt-29\n",
      "Epoch 29 Training Loss 0.0105 Accuracy 0.9968\n",
      "Epoch 29 Validation Loss 0.0126 Accuracy 0.9960\n",
      "Time taken for 1 epoch: 63.18378043174744 secs\n",
      "\n",
      "Saving checkpoint for epoch 30 at ./checkpoints/train\\ckpt-30\n",
      "Epoch 30 Training Loss 0.0105 Accuracy 0.9969\n",
      "Epoch 30 Validation Loss 0.0131 Accuracy 0.9959\n",
      "Time taken for 1 epoch: 63.296786069869995 secs\n",
      "\n",
      "Saving checkpoint for epoch 31 at ./checkpoints/train\\ckpt-31\n",
      "Epoch 31 Training Loss 0.0102 Accuracy 0.9969\n",
      "Epoch 31 Validation Loss 0.0132 Accuracy 0.9959\n",
      "Time taken for 1 epoch: 63.71333384513855 secs\n",
      "\n",
      "Saving checkpoint for epoch 32 at ./checkpoints/train\\ckpt-32\n",
      "Epoch 32 Training Loss 0.0102 Accuracy 0.9969\n",
      "Epoch 32 Validation Loss 0.0135 Accuracy 0.9958\n",
      "Time taken for 1 epoch: 65.20298147201538 secs\n",
      "\n",
      "Saving checkpoint for epoch 33 at ./checkpoints/train\\ckpt-33\n",
      "Epoch 33 Training Loss 0.0100 Accuracy 0.9970\n",
      "Epoch 33 Validation Loss 0.0134 Accuracy 0.9958\n",
      "Time taken for 1 epoch: 64.16483044624329 secs\n",
      "\n",
      "Saving checkpoint for epoch 34 at ./checkpoints/train\\ckpt-34\n",
      "Epoch 34 Training Loss 0.0099 Accuracy 0.9970\n",
      "Epoch 34 Validation Loss 0.0130 Accuracy 0.9960\n",
      "Time taken for 1 epoch: 65.18537425994873 secs\n",
      "\n",
      "Saving checkpoint for epoch 35 at ./checkpoints/train\\ckpt-35\n",
      "Epoch 35 Training Loss 0.0095 Accuracy 0.9971\n",
      "Epoch 35 Validation Loss 0.0132 Accuracy 0.9958\n",
      "Time taken for 1 epoch: 64.3098258972168 secs\n",
      "\n",
      "Saving checkpoint for epoch 36 at ./checkpoints/train\\ckpt-36\n",
      "Epoch 36 Training Loss 0.0096 Accuracy 0.9971\n",
      "Epoch 36 Validation Loss 0.0133 Accuracy 0.9959\n",
      "Time taken for 1 epoch: 65.29527854919434 secs\n",
      "\n",
      "Saving checkpoint for epoch 37 at ./checkpoints/train\\ckpt-37\n",
      "Epoch 37 Training Loss 0.0093 Accuracy 0.9972\n",
      "Epoch 37 Validation Loss 0.0125 Accuracy 0.9961\n",
      "Time taken for 1 epoch: 65.79395055770874 secs\n",
      "\n",
      "Saving checkpoint for epoch 38 at ./checkpoints/train\\ckpt-38\n",
      "Epoch 38 Training Loss 0.0091 Accuracy 0.9973\n",
      "Epoch 38 Validation Loss 0.0129 Accuracy 0.9960\n",
      "Time taken for 1 epoch: 66.64238262176514 secs\n",
      "\n",
      "Saving checkpoint for epoch 39 at ./checkpoints/train\\ckpt-39\n",
      "Epoch 39 Training Loss 0.0092 Accuracy 0.9973\n",
      "Epoch 39 Validation Loss 0.0135 Accuracy 0.9960\n",
      "Time taken for 1 epoch: 65.66214489936829 secs\n",
      "\n",
      "Saving checkpoint for epoch 40 at ./checkpoints/train\\ckpt-40\n",
      "Epoch 40 Training Loss 0.0089 Accuracy 0.9973\n",
      "Epoch 40 Validation Loss 0.0132 Accuracy 0.9960\n",
      "Time taken for 1 epoch: 65.95127701759338 secs\n",
      "\n",
      "Saving checkpoint for epoch 41 at ./checkpoints/train\\ckpt-41\n",
      "Epoch 41 Training Loss 0.0089 Accuracy 0.9974\n",
      "Epoch 41 Validation Loss 0.0134 Accuracy 0.9960\n",
      "Time taken for 1 epoch: 65.77042245864868 secs\n",
      "\n"
     ]
    },
    {
     "name": "stdout",
     "output_type": "stream",
     "text": [
      "Saving checkpoint for epoch 42 at ./checkpoints/train\\ckpt-42\n",
      "Epoch 42 Training Loss 0.0086 Accuracy 0.9974\n",
      "Epoch 42 Validation Loss 0.0134 Accuracy 0.9961\n",
      "Time taken for 1 epoch: 65.28426861763 secs\n",
      "\n",
      "Saving checkpoint for epoch 43 at ./checkpoints/train\\ckpt-43\n",
      "Epoch 43 Training Loss 0.0088 Accuracy 0.9974\n",
      "Epoch 43 Validation Loss 0.0138 Accuracy 0.9960\n",
      "Time taken for 1 epoch: 65.06651282310486 secs\n",
      "\n",
      "Saving checkpoint for epoch 44 at ./checkpoints/train\\ckpt-44\n",
      "Epoch 44 Training Loss 0.0083 Accuracy 0.9975\n",
      "Epoch 44 Validation Loss 0.0131 Accuracy 0.9961\n",
      "Time taken for 1 epoch: 65.09657621383667 secs\n",
      "\n",
      "Saving checkpoint for epoch 45 at ./checkpoints/train\\ckpt-45\n",
      "Epoch 45 Training Loss 0.0083 Accuracy 0.9975\n",
      "Epoch 45 Validation Loss 0.0135 Accuracy 0.9960\n",
      "Time taken for 1 epoch: 65.8761796951294 secs\n",
      "\n",
      "Saving checkpoint for epoch 46 at ./checkpoints/train\\ckpt-46\n",
      "Epoch 46 Training Loss 0.0081 Accuracy 0.9975\n",
      "Epoch 46 Validation Loss 0.0138 Accuracy 0.9959\n",
      "Time taken for 1 epoch: 65.45544815063477 secs\n",
      "\n",
      "Saving checkpoint for epoch 47 at ./checkpoints/train\\ckpt-47\n",
      "Epoch 47 Training Loss 0.0080 Accuracy 0.9976\n",
      "Epoch 47 Validation Loss 0.0135 Accuracy 0.9960\n",
      "Time taken for 1 epoch: 66.09923934936523 secs\n",
      "\n",
      "Saving checkpoint for epoch 48 at ./checkpoints/train\\ckpt-48\n",
      "Epoch 48 Training Loss 0.0080 Accuracy 0.9976\n",
      "Epoch 48 Validation Loss 0.0135 Accuracy 0.9961\n",
      "Time taken for 1 epoch: 65.79282402992249 secs\n",
      "\n",
      "Saving checkpoint for epoch 49 at ./checkpoints/train\\ckpt-49\n",
      "Epoch 49 Training Loss 0.0080 Accuracy 0.9977\n",
      "Epoch 49 Validation Loss 0.0137 Accuracy 0.9962\n",
      "Time taken for 1 epoch: 65.23166060447693 secs\n",
      "\n",
      "Saving checkpoint for epoch 50 at ./checkpoints/train\\ckpt-50\n",
      "Epoch 50 Training Loss 0.0080 Accuracy 0.9977\n",
      "Epoch 50 Validation Loss 0.0135 Accuracy 0.9962\n",
      "Time taken for 1 epoch: 65.05238938331604 secs\n",
      "\n",
      "Saving checkpoint for epoch 51 at ./checkpoints/train\\ckpt-51\n",
      "Epoch 51 Training Loss 0.0075 Accuracy 0.9977\n",
      "Epoch 51 Validation Loss 0.0136 Accuracy 0.9960\n",
      "Time taken for 1 epoch: 65.37881755828857 secs\n",
      "\n",
      "Saving checkpoint for epoch 52 at ./checkpoints/train\\ckpt-52\n",
      "Epoch 52 Training Loss 0.0075 Accuracy 0.9978\n",
      "Epoch 52 Validation Loss 0.0142 Accuracy 0.9961\n",
      "Time taken for 1 epoch: 65.40396022796631 secs\n",
      "\n",
      "Saving checkpoint for epoch 53 at ./checkpoints/train\\ckpt-53\n",
      "Epoch 53 Training Loss 0.0074 Accuracy 0.9978\n",
      "Epoch 53 Validation Loss 0.0138 Accuracy 0.9962\n",
      "Time taken for 1 epoch: 65.99884295463562 secs\n",
      "\n",
      "Saving checkpoint for epoch 54 at ./checkpoints/train\\ckpt-54\n",
      "Epoch 54 Training Loss 0.0074 Accuracy 0.9978\n",
      "Epoch 54 Validation Loss 0.0142 Accuracy 0.9960\n",
      "Time taken for 1 epoch: 66.63645958900452 secs\n",
      "\n",
      "Saving checkpoint for epoch 55 at ./checkpoints/train\\ckpt-55\n",
      "Epoch 55 Training Loss 0.0073 Accuracy 0.9979\n",
      "Epoch 55 Validation Loss 0.0147 Accuracy 0.9960\n",
      "Time taken for 1 epoch: 65.75501370429993 secs\n",
      "\n",
      "Saving checkpoint for epoch 56 at ./checkpoints/train\\ckpt-56\n",
      "Epoch 56 Training Loss 0.0074 Accuracy 0.9978\n",
      "Epoch 56 Validation Loss 0.0136 Accuracy 0.9962\n",
      "Time taken for 1 epoch: 65.69281721115112 secs\n",
      "\n",
      "Saving checkpoint for epoch 57 at ./checkpoints/train\\ckpt-57\n",
      "Epoch 57 Training Loss 0.0070 Accuracy 0.9979\n",
      "Epoch 57 Validation Loss 0.0133 Accuracy 0.9962\n",
      "Time taken for 1 epoch: 65.69754338264465 secs\n",
      "\n",
      "Saving checkpoint for epoch 58 at ./checkpoints/train\\ckpt-58\n",
      "Epoch 58 Training Loss 0.0070 Accuracy 0.9979\n",
      "Epoch 58 Validation Loss 0.0141 Accuracy 0.9961\n",
      "Time taken for 1 epoch: 66.23723340034485 secs\n",
      "\n",
      "Saving checkpoint for epoch 59 at ./checkpoints/train\\ckpt-59\n",
      "Epoch 59 Training Loss 0.0072 Accuracy 0.9979\n",
      "Epoch 59 Validation Loss 0.0139 Accuracy 0.9961\n",
      "Time taken for 1 epoch: 65.28286027908325 secs\n",
      "\n",
      "Saving checkpoint for epoch 60 at ./checkpoints/train\\ckpt-60\n",
      "Epoch 60 Training Loss 0.0068 Accuracy 0.9980\n",
      "Epoch 60 Validation Loss 0.0134 Accuracy 0.9962\n",
      "Time taken for 1 epoch: 64.56219220161438 secs\n",
      "\n",
      "Saving checkpoint for epoch 61 at ./checkpoints/train\\ckpt-61\n",
      "Epoch 61 Training Loss 0.0069 Accuracy 0.9980\n",
      "Epoch 61 Validation Loss 0.0143 Accuracy 0.9961\n",
      "Time taken for 1 epoch: 65.76622462272644 secs\n",
      "\n",
      "Saving checkpoint for epoch 62 at ./checkpoints/train\\ckpt-62\n",
      "Epoch 62 Training Loss 0.0068 Accuracy 0.9981\n",
      "Epoch 62 Validation Loss 0.0139 Accuracy 0.9962\n",
      "Time taken for 1 epoch: 64.66763210296631 secs\n",
      "\n",
      "Saving checkpoint for epoch 63 at ./checkpoints/train\\ckpt-63\n",
      "Epoch 63 Training Loss 0.0067 Accuracy 0.9981\n",
      "Epoch 63 Validation Loss 0.0143 Accuracy 0.9962\n",
      "Time taken for 1 epoch: 64.783047914505 secs\n",
      "\n",
      "Saving checkpoint for epoch 64 at ./checkpoints/train\\ckpt-64\n",
      "Epoch 64 Training Loss 0.0065 Accuracy 0.9981\n",
      "Epoch 64 Validation Loss 0.0142 Accuracy 0.9962\n",
      "Time taken for 1 epoch: 64.69771361351013 secs\n",
      "\n",
      "Saving checkpoint for epoch 65 at ./checkpoints/train\\ckpt-65\n",
      "Epoch 65 Training Loss 0.0067 Accuracy 0.9981\n",
      "Epoch 65 Validation Loss 0.0145 Accuracy 0.9962\n",
      "Time taken for 1 epoch: 64.71143221855164 secs\n",
      "\n",
      "Saving checkpoint for epoch 66 at ./checkpoints/train\\ckpt-66\n",
      "Epoch 66 Training Loss 0.0066 Accuracy 0.9981\n",
      "Epoch 66 Validation Loss 0.0142 Accuracy 0.9962\n",
      "Time taken for 1 epoch: 64.15427589416504 secs\n",
      "\n",
      "Saving checkpoint for epoch 67 at ./checkpoints/train\\ckpt-67\n",
      "Epoch 67 Training Loss 0.0066 Accuracy 0.9981\n",
      "Epoch 67 Validation Loss 0.0148 Accuracy 0.9962\n",
      "Time taken for 1 epoch: 63.82162404060364 secs\n",
      "\n",
      "Saving checkpoint for epoch 68 at ./checkpoints/train\\ckpt-68\n",
      "Epoch 68 Training Loss 0.0066 Accuracy 0.9981\n",
      "Epoch 68 Validation Loss 0.0142 Accuracy 0.9962\n",
      "Time taken for 1 epoch: 63.918187618255615 secs\n",
      "\n",
      "Saving checkpoint for epoch 69 at ./checkpoints/train\\ckpt-69\n",
      "Epoch 69 Training Loss 0.0064 Accuracy 0.9981\n",
      "Epoch 69 Validation Loss 0.0151 Accuracy 0.9961\n",
      "Time taken for 1 epoch: 63.467329263687134 secs\n",
      "\n",
      "Saving checkpoint for epoch 70 at ./checkpoints/train\\ckpt-70\n",
      "Epoch 70 Training Loss 0.0066 Accuracy 0.9981\n",
      "Epoch 70 Validation Loss 0.0149 Accuracy 0.9962\n",
      "Time taken for 1 epoch: 63.727947473526 secs\n",
      "\n",
      "Saving checkpoint for epoch 71 at ./checkpoints/train\\ckpt-71\n",
      "Epoch 71 Training Loss 0.0062 Accuracy 0.9982\n",
      "Epoch 71 Validation Loss 0.0150 Accuracy 0.9961\n",
      "Time taken for 1 epoch: 65.24072337150574 secs\n",
      "\n",
      "Saving checkpoint for epoch 72 at ./checkpoints/train\\ckpt-72\n",
      "Epoch 72 Training Loss 0.0064 Accuracy 0.9981\n",
      "Epoch 72 Validation Loss 0.0149 Accuracy 0.9962\n",
      "Time taken for 1 epoch: 64.44239735603333 secs\n",
      "\n",
      "Saving checkpoint for epoch 73 at ./checkpoints/train\\ckpt-73\n",
      "Epoch 73 Training Loss 0.0062 Accuracy 0.9982\n",
      "Epoch 73 Validation Loss 0.0148 Accuracy 0.9962\n",
      "Time taken for 1 epoch: 65.4325020313263 secs\n",
      "\n",
      "Saving checkpoint for epoch 74 at ./checkpoints/train\\ckpt-74\n",
      "Epoch 74 Training Loss 0.0062 Accuracy 0.9983\n",
      "Epoch 74 Validation Loss 0.0149 Accuracy 0.9962\n",
      "Time taken for 1 epoch: 64.35004782676697 secs\n",
      "\n",
      "Saving checkpoint for epoch 75 at ./checkpoints/train\\ckpt-75\n",
      "Epoch 75 Training Loss 0.0060 Accuracy 0.9982\n",
      "Epoch 75 Validation Loss 0.0145 Accuracy 0.9962\n",
      "Time taken for 1 epoch: 64.32387089729309 secs\n",
      "\n",
      "\n",
      "Time taken for training (~80 minutes)\n"
     ]
    }
   ],
   "source": [
    "train_model(epochs=75)"
   ]
  },
  {
   "cell_type": "markdown",
   "metadata": {
    "id": "QfcsSWswSdGV"
   },
   "source": [
    "# Evaluate"
   ]
  },
  {
   "cell_type": "code",
   "execution_count": 44,
   "metadata": {},
   "outputs": [],
   "source": [
    "# metrics from the last training\n",
    "history_train_losses = pickle.load(open(\"history_train_losses.pickle\",\"rb\"))\n",
    "history_train_accuracies = pickle.load(open(\"history_train_accuracies.pickle\",\"rb\"))\n",
    "history_val_losses = pickle.load(open(\"history_val_losses.pickle\",\"rb\"))\n",
    "history_val_accuracies = pickle.load(open(\"history_val_accuracies.pickle\",\"rb\"))"
   ]
  },
  {
   "cell_type": "code",
   "execution_count": 45,
   "metadata": {},
   "outputs": [
    {
     "data": {
      "image/png": "[encoded data removed]",
      "text/plain": [
       "<Figure size 432x288 with 1 Axes>"
      ]
     },
     "metadata": {
      "needs_background": "light"
     },
     "output_type": "display_data"
    }
   ],
   "source": [
    "plt.plot(range(len(history_train_losses)), history_train_losses, label=\"train_loss\")\n",
    "plt.plot(range(len(history_val_losses)), history_val_losses, label=\"val_loss\", color=\"r\")\n",
    "plt.title(\"Training and validation Loss\")\n",
    "plt.xlabel(\"Epoch\")\n",
    "plt.ylabel(\"Loss\")\n",
    "plt.legend()\n",
    "plt.show()"
   ]
  },
  {
   "cell_type": "code",
   "execution_count": 46,
   "metadata": {},
   "outputs": [
    {
     "data": {
      "image/png": "[encoded data removed]",
      "text/plain": [
       "<Figure size 432x288 with 1 Axes>"
      ]
     },
     "metadata": {
      "needs_background": "light"
     },
     "output_type": "display_data"
    }
   ],
   "source": [
    "plt.plot(range(len(history_train_accuracies)), history_train_accuracies, label=\"train_acc\")\n",
    "plt.plot(range(len(history_val_accuracies)), history_val_accuracies, label=\"val_acc\", color=\"r\")\n",
    "plt.title(\"Training and validation Accuracy\")\n",
    "plt.xlabel(\"Epoch\")\n",
    "plt.ylabel(\"Accuracy\")\n",
    "plt.legend()\n",
    "plt.show()"
   ]
  },
  {
   "cell_type": "code",
   "execution_count": 47,
   "metadata": {},
   "outputs": [
    {
     "data": {
      "image/png": "[encoded data removed]",
      "text/plain": [
       "<Figure size 432x288 with 1 Axes>"
      ]
     },
     "metadata": {
      "needs_background": "light"
     },
     "output_type": "display_data"
    }
   ],
   "source": [
    "e1, e2 = 0, 75 \n",
    "plt.plot(range(len(history_train_losses[e1:e2])), history_train_losses[e1:e2], label=\"train_loss\")\n",
    "plt.plot(range(len(history_val_losses[e1:e2])), history_val_losses[e1:e2], label=\"val_loss\", color=\"r\")\n",
    "plt.title(\"Training and validation Loss\")\n",
    "plt.xticks(np.arange(0,75,10))\n",
    "plt.xlabel(\"Epoch\")\n",
    "plt.ylabel(\"Loss\")\n",
    "plt.legend()\n",
    "plt.show()"
   ]
  },
  {
   "cell_type": "code",
   "execution_count": 48,
   "metadata": {},
   "outputs": [
    {
     "data": {
      "image/png": "[encoded data removed]",
      "text/plain": [
       "<Figure size 432x288 with 1 Axes>"
      ]
     },
     "metadata": {
      "needs_background": "light"
     },
     "output_type": "display_data"
    }
   ],
   "source": [
    "e1, e2 = 4, 55 \n",
    "plt.plot(range(len(history_train_losses[e1:e2])), history_train_losses[e1:e2], label=\"train_loss\")\n",
    "plt.plot(range(len(history_val_losses[e1:e2])), history_val_losses[e1:e2], label=\"val_loss\", color=\"r\")\n",
    "plt.plot(range(len(history_val_losses[e1:e2])), [float(min(history_val_losses[e1:e2]))]*len(history_val_losses[e1:e2]))\n",
    "plt.title(\"Training and validation Loss\")\n",
    "plt.xticks(np.arange(0,e2-e1,5), np.arange(e1+1,e2+1,5))\n",
    "plt.xlabel(\"Epoch\")\n",
    "plt.ylabel(\"Loss\")\n",
    "plt.legend()\n",
    "plt.savefig('Loss_.png',dpi=300, bbox_inches='tight')\n",
    "plt.show()"
   ]
  },
  {
   "cell_type": "code",
   "execution_count": 49,
   "metadata": {},
   "outputs": [
    {
     "data": {
      "image/png": "[encoded data removed]",
      "text/plain": [
       "<Figure size 432x288 with 1 Axes>"
      ]
     },
     "metadata": {
      "needs_background": "light"
     },
     "output_type": "display_data"
    }
   ],
   "source": [
    "e1, e2 = 4, 55 \n",
    "plt.plot(range(len(history_train_accuracies[e1:e2])), history_train_accuracies[e1:e2], label=\"train_acc\")\n",
    "plt.plot(range(len(history_val_accuracies[e1:e2])), history_val_accuracies[e1:e2], label=\"val_acc\", color=\"r\")\n",
    "plt.plot(range(len(history_val_accuracies[e1:e2])), [float(max(history_val_accuracies[e1:e2]))]*len(history_val_accuracies[e1:e2]))\n",
    "plt.title(\"Training and validation Accuracy\")\n",
    "plt.xticks(np.arange(0,e2-e1,5), np.arange(e1+1,e2+1,5))\n",
    "plt.xlabel(\"Epoch\")\n",
    "plt.ylabel(\"Accuracy\")\n",
    "plt.legend()\n",
    "plt.savefig('Accuracy_.png',dpi=300, bbox_inches='tight')\n",
    "plt.show()"
   ]
  },
  {
   "cell_type": "code",
   "execution_count": 43,
   "metadata": {
    "execution": {
     "iopub.execute_input": "2020-11-02T04:16:37.762810Z",
     "iopub.status.busy": "2020-11-02T04:16:37.762085Z",
     "iopub.status.idle": "2020-11-02T04:16:37.764376Z",
     "shell.execute_reply": "2020-11-02T04:16:37.763905Z"
    },
    "id": "5buvMlnvyrFm"
   },
   "outputs": [],
   "source": [
    "def evaluate(inp_sentence):\n",
    "    start_token = [tokenizer.vocab_size]\n",
    "    end_token = [tokenizer.vocab_size + 1]\n",
    "    \n",
    "    # inp sentence is french, hence adding the start and end token\n",
    "    inp_sentence = start_token + tokenizer.encode(inp_sentence) + end_token\n",
    "    encoder_input = tf.expand_dims(inp_sentence, 0)\n",
    "    \n",
    "    # as the target is english, the first word to the transformer should be the\n",
    "    # english start token.\n",
    "    \n",
    "    decoder_input = [tokenizer.vocab_size]\n",
    "    output = tf.expand_dims(decoder_input, 0)\n",
    "    \n",
    "    for i in range(MAX_LENGTH):\n",
    "        enc_padding_mask, combined_mask, dec_padding_mask = create_masks(encoder_input, output)\n",
    "  \n",
    "        # predictions.shape == (batch_size, seq_len, vocab_size)\n",
    "        predictions, attention_weights = transformer(encoder_input, \n",
    "                                                     output,\n",
    "                                                     False,\n",
    "                                                     enc_padding_mask,\n",
    "                                                     combined_mask,\n",
    "                                                     dec_padding_mask)\n",
    "    \n",
    "        # select the last word from the seq_len dimension\n",
    "        predictions = predictions[: ,-1:, :]  # (batch_size, 1, vocab_size)\n",
    "        \n",
    "        predicted_id = tf.cast(tf.argmax(predictions, axis=-1), tf.int32)\n",
    "        \n",
    "        # return the result if the predicted_id is equal to the end token\n",
    "        if predicted_id == tokenizer.vocab_size+1:\n",
    "            return tf.squeeze(output, axis=0), attention_weights\n",
    "            \n",
    "        # concatentate the predicted_id to the output which is given to the decoder\n",
    "        # as its input.\n",
    "        output = tf.concat([output, predicted_id], axis=-1)\n",
    "    \n",
    "    return tf.squeeze(output, axis=0), attention_weights"
   ]
  },
  {
   "cell_type": "code",
   "execution_count": 44,
   "metadata": {
    "execution": {
     "iopub.execute_input": "2020-11-02T04:16:37.772962Z",
     "iopub.status.busy": "2020-11-02T04:16:37.772298Z",
     "iopub.status.idle": "2020-11-02T04:16:37.774529Z",
     "shell.execute_reply": "2020-11-02T04:16:37.774013Z"
    },
    "id": "CN-BV43FMBej"
   },
   "outputs": [],
   "source": [
    "def plot_attention_weights(attention, sentence, result, layer):\n",
    "    fig = plt.figure(figsize=(16, 8))\n",
    "      \n",
    "    sentence = tokenizer.encode(sentence)\n",
    "      \n",
    "    attention = tf.squeeze(attention[layer], axis=0)\n",
    "    \n",
    "    for head in range(attention.shape[0]):\n",
    "        ax = fig.add_subplot(2, 4, head+1)\n",
    "        \n",
    "        # plot the attention weights\n",
    "        ax.matshow(attention[head][:-1, :], cmap='viridis')\n",
    "        \n",
    "        fontdict = {'fontsize': 10}\n",
    "        \n",
    "        ax.set_xticks(range(len(sentence)+2))\n",
    "        ax.set_yticks(range(len(result)-1))\n",
    "        \n",
    "        ax.set_ylim(len(result)-1.5, -0.5)\n",
    "            \n",
    "        ax.set_xticklabels(\n",
    "            ['<start>']+[tokenizer.decode([i]) for i in sentence]+['<end>'], \n",
    "            fontdict=fontdict, rotation=90)\n",
    "            \n",
    "        ax.set_yticklabels([tokenizer.decode([i]) for i in result if i < tokenizer.vocab_size], fontdict=fontdict)\n",
    "    \n",
    "        ax.set_xlabel('Head {}'.format(head+1))\n",
    "        \n",
    "    plt.tight_layout()\n",
    "    plt.show()"
   ]
  },
  {
   "cell_type": "code",
   "execution_count": 45,
   "metadata": {
    "execution": {
     "iopub.execute_input": "2020-11-02T04:16:37.779773Z",
     "iopub.status.busy": "2020-11-02T04:16:37.779103Z",
     "iopub.status.idle": "2020-11-02T04:16:37.781360Z",
     "shell.execute_reply": "2020-11-02T04:16:37.780888Z"
    },
    "id": "lU2_yG_vBGza"
   },
   "outputs": [],
   "source": [
    "def verify(sentence, plot=''):\n",
    "    result, attention_weights = evaluate(sentence)\n",
    "    \n",
    "    predicted_sentence = tokenizer.decode([i for i in result if i < tokenizer.vocab_size])  \n",
    "    \n",
    "    print('Model input: {}'.format(sentence))\n",
    "    print('Model output: {}'.format(predicted_sentence))\n",
    "    \n",
    "    if plot:\n",
    "        plot_attention_weights(attention_weights, sentence, result, plot)"
   ]
  },
  {
   "cell_type": "markdown",
   "metadata": {},
   "source": [
    "### Exemple of model use ###"
   ]
  },
  {
   "cell_type": "code",
   "execution_count": 53,
   "metadata": {
    "execution": {
     "iopub.execute_input": "2020-11-02T04:16:37.785148Z",
     "iopub.status.busy": "2020-11-02T04:16:37.784487Z",
     "iopub.status.idle": "2020-11-02T04:16:39.025891Z",
     "shell.execute_reply": "2020-11-02T04:16:39.025281Z"
    },
    "id": "YsxrAlvFG8SZ"
   },
   "outputs": [
    {
     "name": "stdout",
     "output_type": "stream",
     "text": [
      "Correct sentence: mais il y a la mer.\n",
      "Model input: mais il y à la mer.\n",
      "Model output: mais il y a la mer.\n"
     ]
    },
    {
     "data": {
      "image/png": "[encoded data removed]",
      "text/plain": [
       "<Figure size 1152x576 with 4 Axes>"
      ]
     },
     "metadata": {
      "needs_background": "light"
     },
     "output_type": "display_data"
    }
   ],
   "source": [
    "print (\"Correct sentence: mais il y a la mer.\")\n",
    "verify(\"mais il y à la mer.\", plot='decoder_layer1_block2')"
   ]
  },
  {
   "cell_type": "code",
   "execution_count": 54,
   "metadata": {},
   "outputs": [
    {
     "name": "stdout",
     "output_type": "stream",
     "text": [
      "Correcte sentence: j'ai un compte à régler, affirme rossi.\n",
      "Model input: j'ai un compte a régler, affirme rossi.\n",
      "Model output: j'ai un compte à régler, affirme rossi.\n"
     ]
    },
    {
     "data": {
      "image/png": "[encoded data removed]",
      "text/plain": [
       "<Figure size 1152x576 with 4 Axes>"
      ]
     },
     "metadata": {
      "needs_background": "light"
     },
     "output_type": "display_data"
    }
   ],
   "source": [
    "print (\"Correcte sentence: j'ai un compte à régler, affirme rossi.\")\n",
    "verify(\"j'ai un compte a régler, affirme rossi.\", plot='decoder_layer1_block2')"
   ]
  },
  {
   "cell_type": "code",
   "execution_count": 55,
   "metadata": {
    "execution": {
     "iopub.execute_input": "2020-11-02T04:16:39.030035Z",
     "iopub.status.busy": "2020-11-02T04:16:39.029378Z",
     "iopub.status.idle": "2020-11-02T04:16:39.764247Z",
     "shell.execute_reply": "2020-11-02T04:16:39.763740Z"
    },
    "id": "7EH5y_aqI4t1"
   },
   "outputs": [
    {
     "name": "stdout",
     "output_type": "stream",
     "text": [
      "Correcte sentence:il va falloir que les gars apprennent à contrôler leurs émotions.\n",
      "Model input: il va falloir que les gars apprennent à contrôler leur émotions.\n",
      "Model output: il va falloir que les gars apprennent à contrôler leurs émotions.\n"
     ]
    },
    {
     "data": {
      "image/png": "[encoded data removed]",
      "text/plain": [
       "<Figure size 1152x576 with 4 Axes>"
      ]
     },
     "metadata": {
      "needs_background": "light"
     },
     "output_type": "display_data"
    }
   ],
   "source": [
    "print (\"Correcte sentence:il va falloir que les gars apprennent à contrôler leurs émotions.\")\n",
    "verify(\"il va falloir que les gars apprennent à contrôler leur émotions.\", plot='decoder_layer1_block2')"
   ]
  },
  {
   "cell_type": "code",
   "execution_count": 56,
   "metadata": {
    "execution": {
     "iopub.execute_input": "2020-11-02T04:16:39.769311Z",
     "iopub.status.busy": "2020-11-02T04:16:39.768606Z",
     "iopub.status.idle": "2020-11-02T04:16:42.049202Z",
     "shell.execute_reply": "2020-11-02T04:16:42.049631Z"
    },
    "id": "J-hVCTSUMlkb"
   },
   "outputs": [
    {
     "name": "stdout",
     "output_type": "stream",
     "text": [
      "Correcte sentence: distribuer de la nourriture à ceux qui en ont le plus besoin va être un défi.\n",
      "Model input: distribuer de la nourriture à ce qui en ont le plus besoin va être un défi.\n",
      "Model output: distribuer de la nourriture à ceux qui en ont le plus besoin va être un défi.\n"
     ]
    },
    {
     "data": {
      "image/png": "[encoded data removed]",
      "text/plain": [
       "<Figure size 1152x576 with 4 Axes>"
      ]
     },
     "metadata": {
      "needs_background": "light"
     },
     "output_type": "display_data"
    }
   ],
   "source": [
    "print (\"Correcte sentence: distribuer de la nourriture à ceux qui en ont le plus besoin va être un défi.\")\n",
    "verify(\"distribuer de la nourriture à ce qui en ont le plus besoin va être un défi.\", plot='decoder_layer1_block2')"
   ]
  },
  {
   "cell_type": "code",
   "execution_count": 57,
   "metadata": {},
   "outputs": [
    {
     "name": "stdout",
     "output_type": "stream",
     "text": [
      "Correcte sentence: distribuer de la nourriture à ceux qui en ont le plus besoin va être un défi.\n",
      "Model input: distribuer de la nourriture à se qui en ont le plus besoin va être un défi.\n",
      "Model output: distribuer de la nourriture à ceux qui en ont le plus besoin va être un défi.\n"
     ]
    },
    {
     "data": {
      "image/png": "[encoded data removed]",
      "text/plain": [
       "<Figure size 1152x576 with 4 Axes>"
      ]
     },
     "metadata": {
      "needs_background": "light"
     },
     "output_type": "display_data"
    }
   ],
   "source": [
    "print (\"Correcte sentence: distribuer de la nourriture à ceux qui en ont le plus besoin va être un défi.\")\n",
    "verify(\"distribuer de la nourriture à se qui en ont le plus besoin va être un défi.\", plot='decoder_layer2_block2')"
   ]
  },
  {
   "cell_type": "markdown",
   "metadata": {
    "id": "_1MxkSZvz0jX"
   },
   "source": [
    "You can pass different layers and attention blocks of the decoder to the `plot` parameter."
   ]
  },
  {
   "cell_type": "code",
   "execution_count": 58,
   "metadata": {
    "execution": {
     "iopub.execute_input": "2020-11-02T04:16:42.054286Z",
     "iopub.status.busy": "2020-11-02T04:16:42.053550Z",
     "iopub.status.idle": "2020-11-02T04:16:43.727809Z",
     "shell.execute_reply": "2020-11-02T04:16:43.728233Z"
    },
    "id": "t-kFyiOLH0xg"
   },
   "outputs": [
    {
     "name": "stdout",
     "output_type": "stream",
     "text": [
      "Correcte sentence: la situation est sous contrôle en ce début de précipitations\n",
      "Model input: la situation est sous contrôle en se début de précipitations\n",
      "Model output: la situation est sous contrôle en ce début de précipitations\n"
     ]
    },
    {
     "data": {
      "image/png": "[encoded data removed]",
      "text/plain": [
       "<Figure size 1152x576 with 4 Axes>"
      ]
     },
     "metadata": {
      "needs_background": "light"
     },
     "output_type": "display_data"
    }
   ],
   "source": [
    "print (\"Correcte sentence: la situation est sous contrôle en ce début de précipitations\")\n",
    "verify(\"la situation est sous contrôle en se début de précipitations\", plot='decoder_layer1_block2')"
   ]
  },
  {
   "cell_type": "code",
   "execution_count": 59,
   "metadata": {},
   "outputs": [
    {
     "name": "stdout",
     "output_type": "stream",
     "text": [
      "Correcte sentence: il se demande où est ce que cette chose se cache\n",
      "Model input: il ceux demande ou est se que cet chose ce cache\n",
      "Model output: il se demande où est ce que cette chose se cache\n"
     ]
    },
    {
     "data": {
      "image/png": "[encoded data removed]",
      "text/plain": [
       "<Figure size 1152x576 with 4 Axes>"
      ]
     },
     "metadata": {
      "needs_background": "light"
     },
     "output_type": "display_data"
    }
   ],
   "source": [
    "print (\"Correcte sentence: il se demande où est ce que cette chose se cache\")\n",
    "verify(\"il ceux demande ou est se que cet chose ce cache\", plot='decoder_layer1_block2')"
   ]
  },
  {
   "cell_type": "code",
   "execution_count": 45,
   "metadata": {},
   "outputs": [
    {
     "name": "stdout",
     "output_type": "stream",
     "text": [
      "Correcte sentence: il se demande où est ce que cette chose se cache\n",
      "Model input: il ceux demande ou est se que cet chose ce cache\n",
      "Model output: il se demande où est ce que cette chose se cache\n"
     ]
    },
    {
     "data": {
      "image/png": "[encoded data removed]",
      "text/plain": [
       "<Figure size 1152x576 with 4 Axes>"
      ]
     },
     "metadata": {
      "needs_background": "light"
     },
     "output_type": "display_data"
    }
   ],
   "source": [
    "print (\"Correcte sentence: il se demande où est ce que cette chose se cache\")\n",
    "verify(\"il ceux demande ou est se que cet chose ce cache\", plot='decoder_layer1_block2')"
   ]
  },
  {
   "cell_type": "markdown",
   "metadata": {},
   "source": [
    "### The model has 431 490 trainable parameters"
   ]
  },
  {
   "cell_type": "code",
   "execution_count": 60,
   "metadata": {},
   "outputs": [],
   "source": [
    "def product_list(l):\n",
    "    prod = 1\n",
    "    for e in l:\n",
    "        prod = prod*e\n",
    "    return prod"
   ]
  },
  {
   "cell_type": "code",
   "execution_count": 61,
   "metadata": {},
   "outputs": [
    {
     "name": "stdout",
     "output_type": "stream",
     "text": [
      "\n",
      "Total parameters: 431490\n"
     ]
    }
   ],
   "source": [
    "total_params = 0\n",
    "for e in transformer.trainable_weights:\n",
    "    #print(e.shape)\n",
    "    shape_list = [dim for dim in e.shape]\n",
    "    prod_shape = product_list(shape_list)\n",
    "    #print(\"e.shape = {}, product = {}\".format(e.shape,prod_shape))\n",
    "    total_params += prod_shape\n",
    "print(\"\\nTotal parameters: {}\".format(total_params))"
   ]
  },
  {
   "cell_type": "code",
   "execution_count": 62,
   "metadata": {},
   "outputs": [
    {
     "name": "stdout",
     "output_type": "stream",
     "text": [
      "\n",
      "Total parameters: 431490\n"
     ]
    }
   ],
   "source": [
    "total_params = 0\n",
    "for e in transformer.trainable_variables:\n",
    "    #print(e.shape)\n",
    "    shape_list = [dim for dim in e.shape]\n",
    "    prod_shape = product_list(shape_list)\n",
    "    #print(\"e.shape = {}, product = {}\".format(e.shape,prod_shape))\n",
    "    total_params += prod_shape\n",
    "print(\"\\nTotal parameters: {}\".format(total_params))"
   ]
  },
  {
   "cell_type": "markdown",
   "metadata": {},
   "source": [
    "# Test the model on the test set and on the questions present in the online form"
   ]
  },
  {
   "cell_type": "code",
   "execution_count": 46,
   "metadata": {},
   "outputs": [],
   "source": [
    "homophones = [\n",
    "    (\"a\",\"à\"),\n",
    "    (\"est\",\"et\"),\n",
    "    (\"ces\",\"ses\"),\n",
    "    (\"ce\",\"se\"),\n",
    "    (\"ou\",\"où\"),\n",
    "    (\"la\",\"là\"),\n",
    "    (\"tout\",\"tous\"),\n",
    "    (\"leur\",\"leurs\"),\n",
    "    (\"ceux\",\"ce\"),\n",
    "    (\"cette\",\"cet\")\n",
    "]"
   ]
  },
  {
   "cell_type": "code",
   "execution_count": 51,
   "metadata": {},
   "outputs": [],
   "source": [
    "def get_statistics(homophones, time_index, csv_name=\"Counts.csv\"):\n",
    "    \n",
    "    start_func = datetime.now()\n",
    "    \n",
    "    homophones_reverse = [(b,a) for (a,b) in homophones]\n",
    "    homophones_index = []\n",
    "    for i in range(len(homophones)):\n",
    "        homophones_index.append(homophones[i])\n",
    "        homophones_index.append(homophones_reverse[i])\n",
    "    \n",
    "    df = pd.DataFrame(index=homophones_index, columns=[\"TP\",\"FP\",\"TN\",\"FN\",\"Unexpected\"])\n",
    "    \n",
    "    unexpfile = open(\"unexpected-outputs-{}.txt\".format(time_index), \"w\", encoding=\"utf-8\")\n",
    "    \n",
    "    for (a,b) in homophones_index:\n",
    "        start = datetime.now()\n",
    "        print(\"\\n(a,b)=({},{})\".format(a,b))\n",
    "        \n",
    "        xtesta = open(\"xtest-{}-{}-{}.txt\".format(a,b,time_index), \"r\", encoding=\"utf-8\")\n",
    "        ytesta = open(\"ytest-{}-{}-{}.txt\".format(a,b,time_index), \"r\", encoding=\"utf-8\")\n",
    "        xtesta_incorrect = open(\"xtest-{}-{}-{}-incorrect.txt\".format(b,a,time_index), \"r\", encoding=\"utf-8\")\n",
    "        ytesta_incorrect = open(\"ytest-{}-{}-{}-incorrect.txt\".format(b,a,time_index), \"r\", encoding=\"utf-8\")\n",
    "\n",
    "        TN, FP, TP, FN, Wrong = 0, 0, 0, 0, 0\n",
    "\n",
    "        # TN and FP\n",
    "        stop = False\n",
    "        while not stop:\n",
    "            input_sentence = xtesta.readline()\n",
    "            input_sentence = input_sentence.strip()\n",
    "            correct_sentence = ytesta.readline()\n",
    "            correct_sentence = correct_sentence.strip()\n",
    "\n",
    "            if not input_sentence:\n",
    "                stop = True\n",
    "                break\n",
    "\n",
    "            output_tokens, _ = evaluate(input_sentence)\n",
    "            output_sentence = tokenizer.decode([i for i in output_tokens if i < tokenizer.vocab_size]) \n",
    "\n",
    "            if output_sentence.strip() == correct_sentence.strip():\n",
    "                TN += 1\n",
    "                #print(\"=== TN ===\")\n",
    "                #print(\"input: \",input_sentence)\n",
    "                #print(\"model output: \", output_sentence.strip())\n",
    "            else:\n",
    "                aspace = \" \" + a + \" \"\n",
    "                bspace = \" \" + b + \" \"\n",
    "                input_sentence_fp = input_sentence.replace(aspace,bspace,1)\n",
    "                if output_sentence.strip() == input_sentence_fp.strip():\n",
    "                    FP += 1\n",
    "                    #print(\"=== FP ===\")\n",
    "                    #print(\"input: \",input_sentence)\n",
    "                    #print(\"model output: \", output_sentence.strip())\n",
    "                else:\n",
    "                    Wrong += 1\n",
    "                    unexpfile.write(\"(a,b)=({},{})\\n\".format(a,b))\n",
    "                    unexpfile.write(\"Input: {}\\n\".format(input_sentence.strip()))\n",
    "                    unexpfile.write(\"Correct output: {}\\n\".format(correct_sentence.strip()))\n",
    "                    unexpfile.write(\"Unexpected output: {}\\n\\n\\n\".format(output_sentence.strip()))\n",
    "                    #print(\"=== WRONG ===\")\n",
    "                    #print(\"input: \",input_sentence)\n",
    "                    #print(\"model output: \", output_sentence.strip())\n",
    "\n",
    "        # TP and FN\n",
    "        stop = False\n",
    "        while not stop:\n",
    "            input_sentence = xtesta_incorrect.readline()\n",
    "            input_sentence = input_sentence.strip()\n",
    "            correct_sentence = ytesta_incorrect.readline()\n",
    "            correct_sentence = correct_sentence.strip()\n",
    "\n",
    "            if not input_sentence:\n",
    "                stop = True\n",
    "                break\n",
    "\n",
    "            output_tokens, _ = evaluate(input_sentence)\n",
    "            output_sentence = tokenizer.decode([i for i in output_tokens if i < tokenizer.vocab_size]) \n",
    "\n",
    "            if output_sentence.strip() == correct_sentence.strip():\n",
    "                TP += 1\n",
    "                #print(\"=== TP ===\")\n",
    "                #print(\"input: \",input_sentence)\n",
    "                #print(\"model output: \", output_sentence.strip())\n",
    "            else:\n",
    "                if output_sentence.strip() == input_sentence.strip():\n",
    "                    FN += 1\n",
    "                    #print(\"=== FN ===\")\n",
    "                    #print(\"input: \",input_sentence)\n",
    "                    #print(\"model output: \", output_sentence.strip())\n",
    "                else:\n",
    "                    Wrong += 1\n",
    "                    unexpfile.write(\"(a,b)=({},{})\\n\".format(a,b))\n",
    "                    unexpfile.write(\"Input: {}\\n\".format(input_sentence.strip()))\n",
    "                    unexpfile.write(\"Correct output: {}\\n\".format(correct_sentence.strip()))\n",
    "                    unexpfile.write(\"Unexpected output: {}\\n\\n\\n\".format(output_sentence.strip()))\n",
    "                    #print(\"=== WRONG ===\")\n",
    "                    #print(\"input: \",input_sentence)\n",
    "                    #print(\"model output: \", output_sentence.strip())\n",
    "        xtesta.close()\n",
    "        ytesta.close()\n",
    "        xtesta_incorrect.close()\n",
    "        ytesta.close()\n",
    "\n",
    "        end = datetime.now()\n",
    "        delta = end - start\n",
    "        delta_minutes = delta.seconds // 60\n",
    "        d = delta_minutes\n",
    "        d_unit = \"minutes\"\n",
    "        if delta_minutes == 0:\n",
    "            d = delta.seconds\n",
    "            d_unit = \"seconds\"\n",
    "        print(\"Time taken for test (~{} {})\".format(d, d_unit))\n",
    "        print(\"TP={}, FP={}, TN={}, FN={}, Unexpected={}\\n\".format(TP, FP, TN, FN, Wrong))\n",
    "        df_index = list(df.index).index((a,b))\n",
    "        df.iloc[df_index,:] = [TP, FP, TN, FN, Wrong]\n",
    "    \n",
    "    unexpfile.close()\n",
    "    df.to_csv(csv_name, header=True, index=True, encoding=\"utf-8\", sep=\",\")\n",
    "    print(\"\\nCSV file '{}' successfully saved.\".format(csv_name))\n",
    "    \n",
    "    end_func = datetime.now()\n",
    "    delta_func = end_func - start_func\n",
    "    delta_minutes = delta_func.seconds // 60\n",
    "    d = delta_minutes\n",
    "    d_unit = \"minutes\"\n",
    "    if delta_minutes == 0:\n",
    "        d = delta.seconds\n",
    "        d_unit = \"seconds\"\n",
    "    print(\"Time taken for the entire test (~{} {})\".format(d, d_unit))\n",
    "    \n",
    "    return df"
   ]
  },
  {
   "cell_type": "code",
   "execution_count": 52,
   "metadata": {},
   "outputs": [
    {
     "name": "stdout",
     "output_type": "stream",
     "text": [
      "\n",
      "(a,b)=(a,à)\n",
      "Time taken for test (~16 minutes)\n",
      "TP=407, FP=7, TN=489, FN=87, Unexpected=10\n",
      "\n",
      "\n",
      "(a,b)=(à,a)\n",
      "Time taken for test (~16 minutes)\n",
      "TP=428, FP=2, TN=493, FN=63, Unexpected=14\n",
      "\n",
      "\n",
      "(a,b)=(est,et)\n",
      "Time taken for test (~15 minutes)\n",
      "TP=395, FP=33, TN=464, FN=89, Unexpected=19\n",
      "\n",
      "\n",
      "(a,b)=(et,est)\n",
      "Time taken for test (~16 minutes)\n",
      "TP=303, FP=4, TN=495, FN=183, Unexpected=15\n",
      "\n",
      "\n",
      "(a,b)=(ces,ses)\n",
      "Time taken for test (~15 minutes)\n",
      "TP=368, FP=53, TN=440, FN=127, Unexpected=12\n",
      "\n",
      "\n",
      "(a,b)=(ses,ces)\n",
      "Time taken for test (~15 minutes)\n",
      "TP=306, FP=34, TN=456, FN=187, Unexpected=17\n",
      "\n",
      "\n",
      "(a,b)=(ce,se)\n",
      "Time taken for test (~15 minutes)\n",
      "TP=437, FP=2, TN=488, FN=59, Unexpected=14\n",
      "\n",
      "\n",
      "(a,b)=(se,ce)\n",
      "Time taken for test (~15 minutes)\n",
      "TP=426, FP=3, TN=497, FN=62, Unexpected=12\n",
      "\n",
      "\n",
      "(a,b)=(ou,où)\n",
      "Time taken for test (~15 minutes)\n",
      "TP=455, FP=27, TN=468, FN=36, Unexpected=14\n",
      "\n",
      "\n",
      "(a,b)=(où,ou)\n",
      "Time taken for test (~15 minutes)\n",
      "TP=447, FP=33, TN=464, FN=52, Unexpected=4\n",
      "\n",
      "\n",
      "(a,b)=(la,là)\n",
      "Time taken for test (~14 minutes)\n",
      "TP=456, FP=1, TN=491, FN=36, Unexpected=16\n",
      "\n",
      "\n",
      "(a,b)=(là,la)\n",
      "Time taken for test (~14 minutes)\n",
      "TP=487, FP=13, TN=484, FN=9, Unexpected=7\n",
      "\n",
      "\n",
      "(a,b)=(tout,tous)\n",
      "Time taken for test (~14 minutes)\n",
      "TP=441, FP=23, TN=471, FN=54, Unexpected=11\n",
      "\n",
      "\n",
      "(a,b)=(tous,tout)\n",
      "Time taken for test (~14 minutes)\n",
      "TP=447, FP=27, TN=467, FN=46, Unexpected=13\n",
      "\n",
      "\n",
      "(a,b)=(leur,leurs)\n",
      "Time taken for test (~15 minutes)\n",
      "TP=462, FP=17, TN=480, FN=33, Unexpected=8\n",
      "\n",
      "\n",
      "(a,b)=(leurs,leur)\n",
      "Time taken for test (~15 minutes)\n",
      "TP=476, FP=26, TN=472, FN=20, Unexpected=6\n",
      "\n",
      "\n",
      "(a,b)=(ceux,ce)\n",
      "Time taken for test (~15 minutes)\n",
      "TP=489, FP=34, TN=461, FN=9, Unexpected=7\n",
      "\n",
      "\n",
      "(a,b)=(ce,ceux)\n",
      "Time taken for test (~15 minutes)\n",
      "TP=462, FP=8, TN=483, FN=27, Unexpected=20\n",
      "\n",
      "\n",
      "(a,b)=(cette,cet)\n",
      "Time taken for test (~14 minutes)\n",
      "TP=482, FP=12, TN=484, FN=16, Unexpected=6\n",
      "\n",
      "\n",
      "(a,b)=(cet,cette)\n",
      "Time taken for test (~15 minutes)\n",
      "TP=485, FP=9, TN=490, FN=13, Unexpected=3\n",
      "\n",
      "\n",
      "CSV file 'Counts-2-8-22-50.csv' successfully saved.\n",
      "Time taken for the entire test (~305 minutes)\n"
     ]
    },
    {
     "data": {
      "text/html": [
       "<div>\n",
       "<style scoped>\n",
       "    .dataframe tbody tr th:only-of-type {\n",
       "        vertical-align: middle;\n",
       "    }\n",
       "\n",
       "    .dataframe tbody tr th {\n",
       "        vertical-align: top;\n",
       "    }\n",
       "\n",
       "    .dataframe thead th {\n",
       "        text-align: right;\n",
       "    }\n",
       "</style>\n",
       "<table border=\"1\" class=\"dataframe\">\n",
       "  <thead>\n",
       "    <tr style=\"text-align: right;\">\n",
       "      <th></th>\n",
       "      <th>TP</th>\n",
       "      <th>FP</th>\n",
       "      <th>TN</th>\n",
       "      <th>FN</th>\n",
       "      <th>Unexpected</th>\n",
       "    </tr>\n",
       "  </thead>\n",
       "  <tbody>\n",
       "    <tr>\n",
       "      <th>(a, à)</th>\n",
       "      <td>407</td>\n",
       "      <td>7</td>\n",
       "      <td>489</td>\n",
       "      <td>87</td>\n",
       "      <td>10</td>\n",
       "    </tr>\n",
       "    <tr>\n",
       "      <th>(à, a)</th>\n",
       "      <td>428</td>\n",
       "      <td>2</td>\n",
       "      <td>493</td>\n",
       "      <td>63</td>\n",
       "      <td>14</td>\n",
       "    </tr>\n",
       "    <tr>\n",
       "      <th>(est, et)</th>\n",
       "      <td>395</td>\n",
       "      <td>33</td>\n",
       "      <td>464</td>\n",
       "      <td>89</td>\n",
       "      <td>19</td>\n",
       "    </tr>\n",
       "    <tr>\n",
       "      <th>(et, est)</th>\n",
       "      <td>303</td>\n",
       "      <td>4</td>\n",
       "      <td>495</td>\n",
       "      <td>183</td>\n",
       "      <td>15</td>\n",
       "    </tr>\n",
       "    <tr>\n",
       "      <th>(ces, ses)</th>\n",
       "      <td>368</td>\n",
       "      <td>53</td>\n",
       "      <td>440</td>\n",
       "      <td>127</td>\n",
       "      <td>12</td>\n",
       "    </tr>\n",
       "    <tr>\n",
       "      <th>(ses, ces)</th>\n",
       "      <td>306</td>\n",
       "      <td>34</td>\n",
       "      <td>456</td>\n",
       "      <td>187</td>\n",
       "      <td>17</td>\n",
       "    </tr>\n",
       "    <tr>\n",
       "      <th>(ce, se)</th>\n",
       "      <td>437</td>\n",
       "      <td>2</td>\n",
       "      <td>488</td>\n",
       "      <td>59</td>\n",
       "      <td>14</td>\n",
       "    </tr>\n",
       "    <tr>\n",
       "      <th>(se, ce)</th>\n",
       "      <td>426</td>\n",
       "      <td>3</td>\n",
       "      <td>497</td>\n",
       "      <td>62</td>\n",
       "      <td>12</td>\n",
       "    </tr>\n",
       "    <tr>\n",
       "      <th>(ou, où)</th>\n",
       "      <td>455</td>\n",
       "      <td>27</td>\n",
       "      <td>468</td>\n",
       "      <td>36</td>\n",
       "      <td>14</td>\n",
       "    </tr>\n",
       "    <tr>\n",
       "      <th>(où, ou)</th>\n",
       "      <td>447</td>\n",
       "      <td>33</td>\n",
       "      <td>464</td>\n",
       "      <td>52</td>\n",
       "      <td>4</td>\n",
       "    </tr>\n",
       "    <tr>\n",
       "      <th>(la, là)</th>\n",
       "      <td>456</td>\n",
       "      <td>1</td>\n",
       "      <td>491</td>\n",
       "      <td>36</td>\n",
       "      <td>16</td>\n",
       "    </tr>\n",
       "    <tr>\n",
       "      <th>(là, la)</th>\n",
       "      <td>487</td>\n",
       "      <td>13</td>\n",
       "      <td>484</td>\n",
       "      <td>9</td>\n",
       "      <td>7</td>\n",
       "    </tr>\n",
       "    <tr>\n",
       "      <th>(tout, tous)</th>\n",
       "      <td>441</td>\n",
       "      <td>23</td>\n",
       "      <td>471</td>\n",
       "      <td>54</td>\n",
       "      <td>11</td>\n",
       "    </tr>\n",
       "    <tr>\n",
       "      <th>(tous, tout)</th>\n",
       "      <td>447</td>\n",
       "      <td>27</td>\n",
       "      <td>467</td>\n",
       "      <td>46</td>\n",
       "      <td>13</td>\n",
       "    </tr>\n",
       "    <tr>\n",
       "      <th>(leur, leurs)</th>\n",
       "      <td>462</td>\n",
       "      <td>17</td>\n",
       "      <td>480</td>\n",
       "      <td>33</td>\n",
       "      <td>8</td>\n",
       "    </tr>\n",
       "    <tr>\n",
       "      <th>(leurs, leur)</th>\n",
       "      <td>476</td>\n",
       "      <td>26</td>\n",
       "      <td>472</td>\n",
       "      <td>20</td>\n",
       "      <td>6</td>\n",
       "    </tr>\n",
       "    <tr>\n",
       "      <th>(ceux, ce)</th>\n",
       "      <td>489</td>\n",
       "      <td>34</td>\n",
       "      <td>461</td>\n",
       "      <td>9</td>\n",
       "      <td>7</td>\n",
       "    </tr>\n",
       "    <tr>\n",
       "      <th>(ce, ceux)</th>\n",
       "      <td>462</td>\n",
       "      <td>8</td>\n",
       "      <td>483</td>\n",
       "      <td>27</td>\n",
       "      <td>20</td>\n",
       "    </tr>\n",
       "    <tr>\n",
       "      <th>(cette, cet)</th>\n",
       "      <td>482</td>\n",
       "      <td>12</td>\n",
       "      <td>484</td>\n",
       "      <td>16</td>\n",
       "      <td>6</td>\n",
       "    </tr>\n",
       "    <tr>\n",
       "      <th>(cet, cette)</th>\n",
       "      <td>485</td>\n",
       "      <td>9</td>\n",
       "      <td>490</td>\n",
       "      <td>13</td>\n",
       "      <td>3</td>\n",
       "    </tr>\n",
       "  </tbody>\n",
       "</table>\n",
       "</div>"
      ],
      "text/plain": [
       "                TP  FP   TN   FN Unexpected\n",
       "(a, à)         407   7  489   87         10\n",
       "(à, a)         428   2  493   63         14\n",
       "(est, et)      395  33  464   89         19\n",
       "(et, est)      303   4  495  183         15\n",
       "(ces, ses)     368  53  440  127         12\n",
       "(ses, ces)     306  34  456  187         17\n",
       "(ce, se)       437   2  488   59         14\n",
       "(se, ce)       426   3  497   62         12\n",
       "(ou, où)       455  27  468   36         14\n",
       "(où, ou)       447  33  464   52          4\n",
       "(la, là)       456   1  491   36         16\n",
       "(là, la)       487  13  484    9          7\n",
       "(tout, tous)   441  23  471   54         11\n",
       "(tous, tout)   447  27  467   46         13\n",
       "(leur, leurs)  462  17  480   33          8\n",
       "(leurs, leur)  476  26  472   20          6\n",
       "(ceux, ce)     489  34  461    9          7\n",
       "(ce, ceux)     462   8  483   27         20\n",
       "(cette, cet)   482  12  484   16          6\n",
       "(cet, cette)   485   9  490   13          3"
      ]
     },
     "execution_count": 52,
     "metadata": {},
     "output_type": "execute_result"
    }
   ],
   "source": [
    "get_statistics(homophones,\"2-8-22-50\", \"Counts-2-8-22-50.csv\")"
   ]
  },
  {
   "cell_type": "code",
   "execution_count": 56,
   "metadata": {},
   "outputs": [
    {
     "data": {
      "text/html": [
       "<div>\n",
       "<style scoped>\n",
       "    .dataframe tbody tr th:only-of-type {\n",
       "        vertical-align: middle;\n",
       "    }\n",
       "\n",
       "    .dataframe tbody tr th {\n",
       "        vertical-align: top;\n",
       "    }\n",
       "\n",
       "    .dataframe thead th {\n",
       "        text-align: right;\n",
       "    }\n",
       "</style>\n",
       "<table border=\"1\" class=\"dataframe\">\n",
       "  <thead>\n",
       "    <tr style=\"text-align: right;\">\n",
       "      <th></th>\n",
       "      <th>TP</th>\n",
       "      <th>FP</th>\n",
       "      <th>TN</th>\n",
       "      <th>FN</th>\n",
       "      <th>Unexpected</th>\n",
       "    </tr>\n",
       "  </thead>\n",
       "  <tbody>\n",
       "    <tr>\n",
       "      <th>('a', 'à')</th>\n",
       "      <td>407</td>\n",
       "      <td>7</td>\n",
       "      <td>489</td>\n",
       "      <td>87</td>\n",
       "      <td>10</td>\n",
       "    </tr>\n",
       "    <tr>\n",
       "      <th>('à', 'a')</th>\n",
       "      <td>428</td>\n",
       "      <td>2</td>\n",
       "      <td>493</td>\n",
       "      <td>63</td>\n",
       "      <td>14</td>\n",
       "    </tr>\n",
       "    <tr>\n",
       "      <th>('est', 'et')</th>\n",
       "      <td>395</td>\n",
       "      <td>33</td>\n",
       "      <td>464</td>\n",
       "      <td>89</td>\n",
       "      <td>19</td>\n",
       "    </tr>\n",
       "    <tr>\n",
       "      <th>('et', 'est')</th>\n",
       "      <td>303</td>\n",
       "      <td>4</td>\n",
       "      <td>495</td>\n",
       "      <td>183</td>\n",
       "      <td>15</td>\n",
       "    </tr>\n",
       "    <tr>\n",
       "      <th>('ces', 'ses')</th>\n",
       "      <td>368</td>\n",
       "      <td>53</td>\n",
       "      <td>440</td>\n",
       "      <td>127</td>\n",
       "      <td>12</td>\n",
       "    </tr>\n",
       "    <tr>\n",
       "      <th>('ses', 'ces')</th>\n",
       "      <td>306</td>\n",
       "      <td>34</td>\n",
       "      <td>456</td>\n",
       "      <td>187</td>\n",
       "      <td>17</td>\n",
       "    </tr>\n",
       "    <tr>\n",
       "      <th>('ce', 'se')</th>\n",
       "      <td>437</td>\n",
       "      <td>2</td>\n",
       "      <td>488</td>\n",
       "      <td>59</td>\n",
       "      <td>14</td>\n",
       "    </tr>\n",
       "    <tr>\n",
       "      <th>('se', 'ce')</th>\n",
       "      <td>426</td>\n",
       "      <td>3</td>\n",
       "      <td>497</td>\n",
       "      <td>62</td>\n",
       "      <td>12</td>\n",
       "    </tr>\n",
       "    <tr>\n",
       "      <th>('ou', 'où')</th>\n",
       "      <td>455</td>\n",
       "      <td>27</td>\n",
       "      <td>468</td>\n",
       "      <td>36</td>\n",
       "      <td>14</td>\n",
       "    </tr>\n",
       "    <tr>\n",
       "      <th>('où', 'ou')</th>\n",
       "      <td>447</td>\n",
       "      <td>33</td>\n",
       "      <td>464</td>\n",
       "      <td>52</td>\n",
       "      <td>4</td>\n",
       "    </tr>\n",
       "    <tr>\n",
       "      <th>('la', 'là')</th>\n",
       "      <td>456</td>\n",
       "      <td>1</td>\n",
       "      <td>491</td>\n",
       "      <td>36</td>\n",
       "      <td>16</td>\n",
       "    </tr>\n",
       "    <tr>\n",
       "      <th>('là', 'la')</th>\n",
       "      <td>487</td>\n",
       "      <td>13</td>\n",
       "      <td>484</td>\n",
       "      <td>9</td>\n",
       "      <td>7</td>\n",
       "    </tr>\n",
       "    <tr>\n",
       "      <th>('tout', 'tous')</th>\n",
       "      <td>441</td>\n",
       "      <td>23</td>\n",
       "      <td>471</td>\n",
       "      <td>54</td>\n",
       "      <td>11</td>\n",
       "    </tr>\n",
       "    <tr>\n",
       "      <th>('tous', 'tout')</th>\n",
       "      <td>447</td>\n",
       "      <td>27</td>\n",
       "      <td>467</td>\n",
       "      <td>46</td>\n",
       "      <td>13</td>\n",
       "    </tr>\n",
       "    <tr>\n",
       "      <th>('leur', 'leurs')</th>\n",
       "      <td>462</td>\n",
       "      <td>17</td>\n",
       "      <td>480</td>\n",
       "      <td>33</td>\n",
       "      <td>8</td>\n",
       "    </tr>\n",
       "    <tr>\n",
       "      <th>('leurs', 'leur')</th>\n",
       "      <td>476</td>\n",
       "      <td>26</td>\n",
       "      <td>472</td>\n",
       "      <td>20</td>\n",
       "      <td>6</td>\n",
       "    </tr>\n",
       "    <tr>\n",
       "      <th>('ceux', 'ce')</th>\n",
       "      <td>489</td>\n",
       "      <td>34</td>\n",
       "      <td>461</td>\n",
       "      <td>9</td>\n",
       "      <td>7</td>\n",
       "    </tr>\n",
       "    <tr>\n",
       "      <th>('ce', 'ceux')</th>\n",
       "      <td>462</td>\n",
       "      <td>8</td>\n",
       "      <td>483</td>\n",
       "      <td>27</td>\n",
       "      <td>20</td>\n",
       "    </tr>\n",
       "    <tr>\n",
       "      <th>('cette', 'cet')</th>\n",
       "      <td>482</td>\n",
       "      <td>12</td>\n",
       "      <td>484</td>\n",
       "      <td>16</td>\n",
       "      <td>6</td>\n",
       "    </tr>\n",
       "    <tr>\n",
       "      <th>('cet', 'cette')</th>\n",
       "      <td>485</td>\n",
       "      <td>9</td>\n",
       "      <td>490</td>\n",
       "      <td>13</td>\n",
       "      <td>3</td>\n",
       "    </tr>\n",
       "  </tbody>\n",
       "</table>\n",
       "</div>"
      ],
      "text/plain": [
       "                    TP  FP   TN   FN  Unexpected\n",
       "('a', 'à')         407   7  489   87          10\n",
       "('à', 'a')         428   2  493   63          14\n",
       "('est', 'et')      395  33  464   89          19\n",
       "('et', 'est')      303   4  495  183          15\n",
       "('ces', 'ses')     368  53  440  127          12\n",
       "('ses', 'ces')     306  34  456  187          17\n",
       "('ce', 'se')       437   2  488   59          14\n",
       "('se', 'ce')       426   3  497   62          12\n",
       "('ou', 'où')       455  27  468   36          14\n",
       "('où', 'ou')       447  33  464   52           4\n",
       "('la', 'là')       456   1  491   36          16\n",
       "('là', 'la')       487  13  484    9           7\n",
       "('tout', 'tous')   441  23  471   54          11\n",
       "('tous', 'tout')   447  27  467   46          13\n",
       "('leur', 'leurs')  462  17  480   33           8\n",
       "('leurs', 'leur')  476  26  472   20           6\n",
       "('ceux', 'ce')     489  34  461    9           7\n",
       "('ce', 'ceux')     462   8  483   27          20\n",
       "('cette', 'cet')   482  12  484   16           6\n",
       "('cet', 'cette')   485   9  490   13           3"
      ]
     },
     "execution_count": 56,
     "metadata": {},
     "output_type": "execute_result"
    }
   ],
   "source": [
    "dfc = pd.read_csv(\"Counts-2-8-22-50.csv\", header=0, index_col=0,encoding=\"utf-8\")\n",
    "dfc"
   ]
  },
  {
   "cell_type": "code",
   "execution_count": 64,
   "metadata": {},
   "outputs": [
    {
     "data": {
      "text/plain": [
       "(228, 0.0114)"
      ]
     },
     "execution_count": 64,
     "metadata": {},
     "output_type": "execute_result"
    }
   ],
   "source": [
    "# There is 228 'Unexpected' output for all 20 000 test sentences ( = 1.14 %)\n",
    "dfc[\"Unexpected\"].sum(), dfc['Unexpected'].sum() / dfc.sum().sum()"
   ]
  },
  {
   "cell_type": "code",
   "execution_count": 1,
   "metadata": {},
   "outputs": [],
   "source": [
    "# Recall = TP / (TP + FP)\n",
    "# Precision = TP / (TP + FN)\n",
    "# Here we have also the \"Unexpected category\" see the final report for more information.\n",
    "# Accuracy = (TP + TN) / (TP + FP+ TN + FN + Unexpected)\n",
    "# Recall, Precision, Accuracy"
   ]
  },
  {
   "cell_type": "code",
   "execution_count": 49,
   "metadata": {},
   "outputs": [],
   "source": [
    "def test_on_forms(filename):\n",
    "    \n",
    "    start = datetime.now()\n",
    "    \n",
    "    sentences = open(filename, \"r\", encoding=\"utf-8\")\n",
    "    outname = filename[:-4] + \"_transformer_correction.txt\"\n",
    "    \n",
    "    outputs = open(outname, \"w\", encoding=\"utf-8\")\n",
    "    \n",
    "    stop = False\n",
    "    while not stop:\n",
    "        input_sentence = sentences.readline()\n",
    "        if not input_sentence:\n",
    "            stop = True\n",
    "            outputs.write(input_sentence)\n",
    "            break\n",
    "        input_sentence = input_sentence.strip()\n",
    "        input_sentence = input_sentence.lower()\n",
    "        #correct_sentence = ytesta_incorrect.readline()\n",
    "        #correct_sentence = correct_sentence.strip()\n",
    "\n",
    "        output_tokens, _ = evaluate(input_sentence)\n",
    "        output_sentence = tokenizer.decode([i for i in output_tokens if i < tokenizer.vocab_size])\n",
    "        \n",
    "        output_sentence = output_sentence.strip()+\"\\n\"\n",
    "        outputs.write(output_sentence)\n",
    "    \n",
    "    outputs.close()\n",
    "    \n",
    "    end = datetime.now()\n",
    "    delta = end - start\n",
    "    delta_minutes = delta.seconds // 60\n",
    "    d = delta_minutes\n",
    "    d_unit = \"minutes\"\n",
    "    if delta_minutes == 0:\n",
    "        d = delta.seconds\n",
    "        d_unit = \"seconds\"\n",
    "    print(\"\\nResults successfully saved (~ {} {}).\\n{}\".format(d,d_unit,outname))\n",
    "    \n",
    "    sentences.close()"
   ]
  },
  {
   "cell_type": "code",
   "execution_count": 50,
   "metadata": {},
   "outputs": [
    {
     "name": "stdout",
     "output_type": "stream",
     "text": [
      "\n",
      "Results successfully saved (~ 38 seconds).\n",
      "test_sentence_ggle_forms_questions_transformer_correction.txt\n"
     ]
    }
   ],
   "source": [
    "test_on_forms(\"test_sentence_ggle_forms_questions.txt\")"
   ]
  },
  {
   "cell_type": "code",
   "execution_count": 64,
   "metadata": {},
   "outputs": [],
   "source": [
    "def get_test_results(answersfile, correctionfile, csv_name=None):\n",
    "    \n",
    "    start = datetime.now()\n",
    "    \n",
    "    answers_file = open(answersfile, \"r\", encoding=\"utf-8\")\n",
    "    correction_file = open(correctionfile, \"r\", encoding=\"utf-8\")\n",
    "    \n",
    "    scores = []\n",
    "    answers = []\n",
    "    corrections = []\n",
    "    \n",
    "    stop=False\n",
    "    while not stop:\n",
    "        answer = answers_file.readline()\n",
    "        correct = correction_file.readline()\n",
    "        correct = correct.lower()\n",
    "        if (not answer) or (not correct):\n",
    "            stop = True\n",
    "            break\n",
    "        elif answer.strip() == correct.strip():\n",
    "            scores.append(1)\n",
    "        else:\n",
    "            scores.append(0)\n",
    "        answers.append(answer.strip())\n",
    "        corrections.append(correct.strip())\n",
    "    \n",
    "    dfscores = pd.DataFrame(scores, index=range(len(scores)), columns=[\"Scores\"])\n",
    "    dfscores[\"Answers\"] = answers\n",
    "    dfscores[\"Corrections\"] = corrections\n",
    "    \n",
    "    answers_file.close()\n",
    "    correction_file.close()\n",
    "    \n",
    "    end = datetime.now()\n",
    "    delta = end - start\n",
    "    delta_minutes = delta.seconds // 60\n",
    "    d = delta_minutes\n",
    "    d_unit = \"minutes\"\n",
    "    if delta_minutes == 0:\n",
    "        d = delta.seconds\n",
    "        d_unit = \"seconds\"\n",
    "    \n",
    "    if csv_name:\n",
    "        dfscores.to_csv(csv_name, header=True, index=True, encoding=\"utf-8\", sep=\",\")\n",
    "        print(\"\\nResults successfully saved (~ {} {}).\\n{}\".format(d,d_unit,csv_name))\n",
    "    \n",
    "    return dfscores"
   ]
  },
  {
   "cell_type": "code",
   "execution_count": 65,
   "metadata": {},
   "outputs": [
    {
     "name": "stdout",
     "output_type": "stream",
     "text": [
      "\n",
      "Results successfully saved (~ 0 seconds).\n",
      "test_sentence_ggle_forms_transformer_results.csv\n"
     ]
    }
   ],
   "source": [
    "g = get_test_results(\"test_sentence_ggle_forms_questions_transformer_correction.txt\",\n",
    "                \"test_sentence_ggle_forms_correct.txt\",\n",
    "                \"test_sentence_ggle_forms_transformer_results.csv\")"
   ]
  },
  {
   "cell_type": "code",
   "execution_count": 66,
   "metadata": {},
   "outputs": [
    {
     "data": {
      "text/html": [
       "<div>\n",
       "<style scoped>\n",
       "    .dataframe tbody tr th:only-of-type {\n",
       "        vertical-align: middle;\n",
       "    }\n",
       "\n",
       "    .dataframe tbody tr th {\n",
       "        vertical-align: top;\n",
       "    }\n",
       "\n",
       "    .dataframe thead th {\n",
       "        text-align: right;\n",
       "    }\n",
       "</style>\n",
       "<table border=\"1\" class=\"dataframe\">\n",
       "  <thead>\n",
       "    <tr style=\"text-align: right;\">\n",
       "      <th></th>\n",
       "      <th>Scores</th>\n",
       "      <th>Answers</th>\n",
       "      <th>Corrections</th>\n",
       "    </tr>\n",
       "  </thead>\n",
       "  <tbody>\n",
       "    <tr>\n",
       "      <th>0</th>\n",
       "      <td>1</td>\n",
       "      <td>la vente de carte journalière au tarif de 8 € ...</td>\n",
       "      <td>la vente de carte journalière au tarif de 8 € ...</td>\n",
       "    </tr>\n",
       "    <tr>\n",
       "      <th>1</th>\n",
       "      <td>1</td>\n",
       "      <td>sauront-ils exploiter la technologie de cet en...</td>\n",
       "      <td>sauront-ils exploiter la technologie de cet en...</td>\n",
       "    </tr>\n",
       "    <tr>\n",
       "      <th>2</th>\n",
       "      <td>1</td>\n",
       "      <td>c'est évidemment peu, ou déjà trop.</td>\n",
       "      <td>c'est évidemment peu, ou déjà trop.</td>\n",
       "    </tr>\n",
       "    <tr>\n",
       "      <th>3</th>\n",
       "      <td>1</td>\n",
       "      <td>face à cette situation de surchauffe, une nett...</td>\n",
       "      <td>face à cette situation de surchauffe, une nett...</td>\n",
       "    </tr>\n",
       "    <tr>\n",
       "      <th>4</th>\n",
       "      <td>1</td>\n",
       "      <td>puisqu'en mode comme en fleurissement, les ten...</td>\n",
       "      <td>puisqu'en mode comme en fleurissement, les ten...</td>\n",
       "    </tr>\n",
       "    <tr>\n",
       "      <th>5</th>\n",
       "      <td>0</td>\n",
       "      <td>le thème de cette dixième édition était « fête...</td>\n",
       "      <td>le thème de cette dixième édition était « fête...</td>\n",
       "    </tr>\n",
       "    <tr>\n",
       "      <th>6</th>\n",
       "      <td>1</td>\n",
       "      <td>le journal a appris de nouveaux détails sur ce...</td>\n",
       "      <td>le journal a appris de nouveaux détails sur ce...</td>\n",
       "    </tr>\n",
       "    <tr>\n",
       "      <th>7</th>\n",
       "      <td>1</td>\n",
       "      <td>au début, ce n’était pas évident, donc j’ai fa...</td>\n",
       "      <td>au début, ce n’était pas évident, donc j’ai fa...</td>\n",
       "    </tr>\n",
       "    <tr>\n",
       "      <th>8</th>\n",
       "      <td>1</td>\n",
       "      <td>si la réponse à ça, c'est oui, je l'entends.</td>\n",
       "      <td>si la réponse à ça, c'est oui, je l'entends.</td>\n",
       "    </tr>\n",
       "    <tr>\n",
       "      <th>9</th>\n",
       "      <td>1</td>\n",
       "      <td>cela fuse dans tous les sens, c’est du grand n...</td>\n",
       "      <td>cela fuse dans tous les sens, c’est du grand n...</td>\n",
       "    </tr>\n",
       "    <tr>\n",
       "      <th>10</th>\n",
       "      <td>1</td>\n",
       "      <td>tu es là, maintenant, et tu n'es plus en 1994 ...</td>\n",
       "      <td>tu es là, maintenant, et tu n'es plus en 1994 ...</td>\n",
       "    </tr>\n",
       "    <tr>\n",
       "      <th>11</th>\n",
       "      <td>1</td>\n",
       "      <td>c'est probablement la mesure la plus proche du...</td>\n",
       "      <td>c'est probablement la mesure la plus proche du...</td>\n",
       "    </tr>\n",
       "    <tr>\n",
       "      <th>12</th>\n",
       "      <td>1</td>\n",
       "      <td>il a bon espoir de voir la construction aller ...</td>\n",
       "      <td>il a bon espoir de voir la construction aller ...</td>\n",
       "    </tr>\n",
       "    <tr>\n",
       "      <th>13</th>\n",
       "      <td>1</td>\n",
       "      <td>washington pourrait ainsi satisfaire ses parte...</td>\n",
       "      <td>washington pourrait ainsi satisfaire ses parte...</td>\n",
       "    </tr>\n",
       "    <tr>\n",
       "      <th>14</th>\n",
       "      <td>1</td>\n",
       "      <td>que du bonheur pour ceux qui sauront dépasser ...</td>\n",
       "      <td>que du bonheur pour ceux qui sauront dépasser ...</td>\n",
       "    </tr>\n",
       "    <tr>\n",
       "      <th>15</th>\n",
       "      <td>0</td>\n",
       "      <td>beaucoup d'universitaires poursuivent une part...</td>\n",
       "      <td>beaucoup d'universitaires poursuivent une part...</td>\n",
       "    </tr>\n",
       "    <tr>\n",
       "      <th>16</th>\n",
       "      <td>1</td>\n",
       "      <td>son atelier, il est à son image : cool.</td>\n",
       "      <td>son atelier, il est à son image : cool.</td>\n",
       "    </tr>\n",
       "    <tr>\n",
       "      <th>17</th>\n",
       "      <td>1</td>\n",
       "      <td>plus de 34 millions de passagers transitent pa...</td>\n",
       "      <td>plus de 34 millions de passagers transitent pa...</td>\n",
       "    </tr>\n",
       "    <tr>\n",
       "      <th>18</th>\n",
       "      <td>1</td>\n",
       "      <td>jusqu'où peut-on protéger ces chers rejetons d...</td>\n",
       "      <td>jusqu'où peut-on protéger ces chers rejetons d...</td>\n",
       "    </tr>\n",
       "    <tr>\n",
       "      <th>19</th>\n",
       "      <td>1</td>\n",
       "      <td>son chat, lui, ronronne à nouveau, auprès d’elle.</td>\n",
       "      <td>son chat, lui, ronronne à nouveau, auprès d’elle.</td>\n",
       "    </tr>\n",
       "    <tr>\n",
       "      <th>20</th>\n",
       "      <td>1</td>\n",
       "      <td>comment faire pour être comme tout le monde?</td>\n",
       "      <td>comment faire pour être comme tout le monde?</td>\n",
       "    </tr>\n",
       "    <tr>\n",
       "      <th>21</th>\n",
       "      <td>1</td>\n",
       "      <td>reportons-nous au tout début des années 50.</td>\n",
       "      <td>reportons-nous au tout début des années 50.</td>\n",
       "    </tr>\n",
       "    <tr>\n",
       "      <th>22</th>\n",
       "      <td>0</td>\n",
       "      <td>je ne comprends pas se débalancement entre rég...</td>\n",
       "      <td>je ne comprends pas ce débalancement entre rég...</td>\n",
       "    </tr>\n",
       "    <tr>\n",
       "      <th>23</th>\n",
       "      <td>1</td>\n",
       "      <td>ce niveau délimite la borne basse d'un mini ca...</td>\n",
       "      <td>ce niveau délimite la borne basse d'un mini ca...</td>\n",
       "    </tr>\n",
       "    <tr>\n",
       "      <th>24</th>\n",
       "      <td>1</td>\n",
       "      <td>les inscriptions se feront pendant les heures ...</td>\n",
       "      <td>les inscriptions se feront pendant les heures ...</td>\n",
       "    </tr>\n",
       "    <tr>\n",
       "      <th>25</th>\n",
       "      <td>1</td>\n",
       "      <td>il faut maintenant que la france se donne les ...</td>\n",
       "      <td>il faut maintenant que la france se donne les ...</td>\n",
       "    </tr>\n",
       "    <tr>\n",
       "      <th>26</th>\n",
       "      <td>1</td>\n",
       "      <td>et ceux d'aujourd'hui, sont-ils déjà au point ?</td>\n",
       "      <td>et ceux d'aujourd'hui, sont-ils déjà au point ?</td>\n",
       "    </tr>\n",
       "    <tr>\n",
       "      <th>27</th>\n",
       "      <td>1</td>\n",
       "      <td>les cadeaux de noël ne sont pas toujours là où...</td>\n",
       "      <td>les cadeaux de noël ne sont pas toujours là où...</td>\n",
       "    </tr>\n",
       "    <tr>\n",
       "      <th>28</th>\n",
       "      <td>1</td>\n",
       "      <td>je vais poursuivre ce genre d'activités.</td>\n",
       "      <td>je vais poursuivre ce genre d'activités.</td>\n",
       "    </tr>\n",
       "    <tr>\n",
       "      <th>29</th>\n",
       "      <td>1</td>\n",
       "      <td>il a fait valoir que les tarifs du câble ont é...</td>\n",
       "      <td>il a fait valoir que les tarifs du câble ont é...</td>\n",
       "    </tr>\n",
       "    <tr>\n",
       "      <th>30</th>\n",
       "      <td>1</td>\n",
       "      <td>ça m’intéresse comme tous les gens de ma génér...</td>\n",
       "      <td>ça m’intéresse comme tous les gens de ma génér...</td>\n",
       "    </tr>\n",
       "    <tr>\n",
       "      <th>31</th>\n",
       "      <td>1</td>\n",
       "      <td>en plus, il y a ce texte-là où je leur impose ...</td>\n",
       "      <td>en plus, il y a ce texte-là où je leur impose ...</td>\n",
       "    </tr>\n",
       "    <tr>\n",
       "      <th>32</th>\n",
       "      <td>1</td>\n",
       "      <td>un bon moment de détente où le rire sera le fi...</td>\n",
       "      <td>un bon moment de détente où le rire sera le fi...</td>\n",
       "    </tr>\n",
       "    <tr>\n",
       "      <th>33</th>\n",
       "      <td>1</td>\n",
       "      <td>la pratique courante de l'anglais est un atout.</td>\n",
       "      <td>la pratique courante de l'anglais est un atout.</td>\n",
       "    </tr>\n",
       "    <tr>\n",
       "      <th>34</th>\n",
       "      <td>1</td>\n",
       "      <td>les européens veulent démontrer leur unité ava...</td>\n",
       "      <td>les européens veulent démontrer leur unité ava...</td>\n",
       "    </tr>\n",
       "    <tr>\n",
       "      <th>35</th>\n",
       "      <td>1</td>\n",
       "      <td>mais quand t'es embarqué dans l'engrenage, tu ...</td>\n",
       "      <td>mais quand t'es embarqué dans l'engrenage, tu ...</td>\n",
       "    </tr>\n",
       "    <tr>\n",
       "      <th>36</th>\n",
       "      <td>1</td>\n",
       "      <td>une chose est sûre, ce n'était pas de la fauss...</td>\n",
       "      <td>une chose est sûre, ce n'était pas de la fauss...</td>\n",
       "    </tr>\n",
       "    <tr>\n",
       "      <th>37</th>\n",
       "      <td>1</td>\n",
       "      <td>je suis là pour marquer, dans une équipe qui p...</td>\n",
       "      <td>je suis là pour marquer, dans une équipe qui p...</td>\n",
       "    </tr>\n",
       "    <tr>\n",
       "      <th>38</th>\n",
       "      <td>1</td>\n",
       "      <td>les particuliers peuvent y déposer leurs carto...</td>\n",
       "      <td>les particuliers peuvent y déposer leurs carto...</td>\n",
       "    </tr>\n",
       "    <tr>\n",
       "      <th>39</th>\n",
       "      <td>1</td>\n",
       "      <td>les studios de cinéma sont célèbres pour leur ...</td>\n",
       "      <td>les studios de cinéma sont célèbres pour leur ...</td>\n",
       "    </tr>\n",
       "  </tbody>\n",
       "</table>\n",
       "</div>"
      ],
      "text/plain": [
       "    Scores                                            Answers  \\\n",
       "0        1  la vente de carte journalière au tarif de 8 € ...   \n",
       "1        1  sauront-ils exploiter la technologie de cet en...   \n",
       "2        1                c'est évidemment peu, ou déjà trop.   \n",
       "3        1  face à cette situation de surchauffe, une nett...   \n",
       "4        1  puisqu'en mode comme en fleurissement, les ten...   \n",
       "5        0  le thème de cette dixième édition était « fête...   \n",
       "6        1  le journal a appris de nouveaux détails sur ce...   \n",
       "7        1  au début, ce n’était pas évident, donc j’ai fa...   \n",
       "8        1       si la réponse à ça, c'est oui, je l'entends.   \n",
       "9        1  cela fuse dans tous les sens, c’est du grand n...   \n",
       "10       1  tu es là, maintenant, et tu n'es plus en 1994 ...   \n",
       "11       1  c'est probablement la mesure la plus proche du...   \n",
       "12       1  il a bon espoir de voir la construction aller ...   \n",
       "13       1  washington pourrait ainsi satisfaire ses parte...   \n",
       "14       1  que du bonheur pour ceux qui sauront dépasser ...   \n",
       "15       0  beaucoup d'universitaires poursuivent une part...   \n",
       "16       1            son atelier, il est à son image : cool.   \n",
       "17       1  plus de 34 millions de passagers transitent pa...   \n",
       "18       1  jusqu'où peut-on protéger ces chers rejetons d...   \n",
       "19       1  son chat, lui, ronronne à nouveau, auprès d’elle.   \n",
       "20       1       comment faire pour être comme tout le monde?   \n",
       "21       1        reportons-nous au tout début des années 50.   \n",
       "22       0  je ne comprends pas se débalancement entre rég...   \n",
       "23       1  ce niveau délimite la borne basse d'un mini ca...   \n",
       "24       1  les inscriptions se feront pendant les heures ...   \n",
       "25       1  il faut maintenant que la france se donne les ...   \n",
       "26       1    et ceux d'aujourd'hui, sont-ils déjà au point ?   \n",
       "27       1  les cadeaux de noël ne sont pas toujours là où...   \n",
       "28       1           je vais poursuivre ce genre d'activités.   \n",
       "29       1  il a fait valoir que les tarifs du câble ont é...   \n",
       "30       1  ça m’intéresse comme tous les gens de ma génér...   \n",
       "31       1  en plus, il y a ce texte-là où je leur impose ...   \n",
       "32       1  un bon moment de détente où le rire sera le fi...   \n",
       "33       1    la pratique courante de l'anglais est un atout.   \n",
       "34       1  les européens veulent démontrer leur unité ava...   \n",
       "35       1  mais quand t'es embarqué dans l'engrenage, tu ...   \n",
       "36       1  une chose est sûre, ce n'était pas de la fauss...   \n",
       "37       1  je suis là pour marquer, dans une équipe qui p...   \n",
       "38       1  les particuliers peuvent y déposer leurs carto...   \n",
       "39       1  les studios de cinéma sont célèbres pour leur ...   \n",
       "\n",
       "                                          Corrections  \n",
       "0   la vente de carte journalière au tarif de 8 € ...  \n",
       "1   sauront-ils exploiter la technologie de cet en...  \n",
       "2                 c'est évidemment peu, ou déjà trop.  \n",
       "3   face à cette situation de surchauffe, une nett...  \n",
       "4   puisqu'en mode comme en fleurissement, les ten...  \n",
       "5   le thème de cette dixième édition était « fête...  \n",
       "6   le journal a appris de nouveaux détails sur ce...  \n",
       "7   au début, ce n’était pas évident, donc j’ai fa...  \n",
       "8        si la réponse à ça, c'est oui, je l'entends.  \n",
       "9   cela fuse dans tous les sens, c’est du grand n...  \n",
       "10  tu es là, maintenant, et tu n'es plus en 1994 ...  \n",
       "11  c'est probablement la mesure la plus proche du...  \n",
       "12  il a bon espoir de voir la construction aller ...  \n",
       "13  washington pourrait ainsi satisfaire ses parte...  \n",
       "14  que du bonheur pour ceux qui sauront dépasser ...  \n",
       "15  beaucoup d'universitaires poursuivent une part...  \n",
       "16            son atelier, il est à son image : cool.  \n",
       "17  plus de 34 millions de passagers transitent pa...  \n",
       "18  jusqu'où peut-on protéger ces chers rejetons d...  \n",
       "19  son chat, lui, ronronne à nouveau, auprès d’elle.  \n",
       "20       comment faire pour être comme tout le monde?  \n",
       "21        reportons-nous au tout début des années 50.  \n",
       "22  je ne comprends pas ce débalancement entre rég...  \n",
       "23  ce niveau délimite la borne basse d'un mini ca...  \n",
       "24  les inscriptions se feront pendant les heures ...  \n",
       "25  il faut maintenant que la france se donne les ...  \n",
       "26    et ceux d'aujourd'hui, sont-ils déjà au point ?  \n",
       "27  les cadeaux de noël ne sont pas toujours là où...  \n",
       "28           je vais poursuivre ce genre d'activités.  \n",
       "29  il a fait valoir que les tarifs du câble ont é...  \n",
       "30  ça m’intéresse comme tous les gens de ma génér...  \n",
       "31  en plus, il y a ce texte-là où je leur impose ...  \n",
       "32  un bon moment de détente où le rire sera le fi...  \n",
       "33    la pratique courante de l'anglais est un atout.  \n",
       "34  les européens veulent démontrer leur unité ava...  \n",
       "35  mais quand t'es embarqué dans l'engrenage, tu ...  \n",
       "36  une chose est sûre, ce n'était pas de la fauss...  \n",
       "37  je suis là pour marquer, dans une équipe qui p...  \n",
       "38  les particuliers peuvent y déposer leurs carto...  \n",
       "39  les studios de cinéma sont célèbres pour leur ...  "
      ]
     },
     "execution_count": 66,
     "metadata": {},
     "output_type": "execute_result"
    }
   ],
   "source": [
    "# The tained Transformer got 37/40\n",
    "g"
   ]
  },
  {
   "cell_type": "code",
   "execution_count": null,
   "metadata": {},
   "outputs": [],
   "source": []
  },
  {
   "cell_type": "markdown",
   "metadata": {},
   "source": [
    "#### see the notebook 'Comparison_of_model_and_human_performance.ipynb', for a comparison between the model and human performance"
   ]
  }
 ],
 "metadata": {
  "accelerator": "GPU",
  "colab": {
   "collapsed_sections": [
    "s_qNSzzyaCbD"
   ],
   "name": "transformer.ipynb",
   "toc_visible": true
  },
  "kernelspec": {
   "display_name": "TensorFlow-GPU-2.1.0",
   "language": "python",
   "name": "tf2-gpu"
  },
  "language_info": {
   "codemirror_mode": {
    "name": "ipython",
    "version": 3
   },
   "file_extension": ".py",
   "mimetype": "text/x-python",
   "name": "python",
   "nbconvert_exporter": "python",
   "pygments_lexer": "ipython3",
   "version": "3.7.9"
  }
 },
 "nbformat": 4,
 "nbformat_minor": 1
}
